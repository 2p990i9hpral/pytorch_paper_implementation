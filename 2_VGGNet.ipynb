{
 "cells": [
  {
   "cell_type": "code",
   "id": "initial_id",
   "metadata": {
    "collapsed": true,
    "ExecuteTime": {
     "end_time": "2024-10-10T12:09:16.113086Z",
     "start_time": "2024-10-10T12:09:09.562323Z"
    }
   },
   "source": [
    "import torch\n",
    "from torch import nn, optim\n",
    "from torch.utils.data import random_split, DataLoader\n",
    "from torchinfo import summary\n",
    "from torchvision import datasets, transforms, models\n",
    "\n",
    "DEVICE = \"cuda\" if torch.cuda.is_available() else \"cpu\"\n",
    "print(DEVICE)"
   ],
   "outputs": [
    {
     "name": "stdout",
     "output_type": "stream",
     "text": [
      "cuda\n"
     ]
    }
   ],
   "execution_count": 1
  },
  {
   "metadata": {},
   "cell_type": "markdown",
   "source": "## Implementatation",
   "id": "6728b1ca1cd1e4dc"
  },
  {
   "metadata": {
    "ExecuteTime": {
     "end_time": "2024-10-10T12:09:16.611641Z",
     "start_time": "2024-10-10T12:09:16.603131Z"
    }
   },
   "cell_type": "code",
   "source": [
    "class VGGNet(nn.Module):\n",
    "    def __init__(self, n_channels, n_classes):\n",
    "        super().__init__()\n",
    "        self.conv1 = self.create_conv_block(n_channels, 64, 2)\n",
    "        self.conv2 = self.create_conv_block(64, 128, 2)\n",
    "        self.conv3 = self.create_conv_block(128, 256, 3)\n",
    "        self.conv4 = self.create_conv_block(256, 512, 3)\n",
    "        self.conv5 = self.create_conv_block(512, 512, 3)\n",
    "        self.classifier = nn.Sequential(\n",
    "            nn.Flatten(),\n",
    "            nn.Linear(512 * 7 * 7, 4096),\n",
    "            nn.ReLU(),\n",
    "            nn.Linear(4096, 4096),\n",
    "            nn.ReLU(),\n",
    "            nn.Linear(4096, n_classes),\n",
    "        )\n",
    "    \n",
    "    def create_conv_block(self, input_channels, n_channels, n_layers):\n",
    "        conv_block = nn.Sequential(\n",
    "            nn.Conv2d(input_channels, n_channels, kernel_size=3, padding=1),\n",
    "            nn.ReLU(),\n",
    "            *[layer for _ in range(n_layers-1) for layer in [nn.Conv2d(n_channels, n_channels, kernel_size=3, padding=1), nn.ReLU()]],\n",
    "            nn.MaxPool2d(2),\n",
    "        )\n",
    "        return conv_block\n",
    "\n",
    "    def forward(self, x):\n",
    "        x = self.conv1(x)\n",
    "        x = self.conv2(x)\n",
    "        x = self.conv3(x)\n",
    "        x = self.conv4(x)\n",
    "        x = self.conv5(x)\n",
    "        x = self.classifier(x)\n",
    "        return x"
   ],
   "id": "8f6ffb7b9ada31d4",
   "outputs": [],
   "execution_count": 2
  },
  {
   "metadata": {
    "ExecuteTime": {
     "end_time": "2024-10-10T12:09:22.739797Z",
     "start_time": "2024-10-10T12:09:16.628051Z"
    }
   },
   "cell_type": "code",
   "source": [
    "vgg_model = VGGNet(3, 1000).to('cpu')\n",
    "summary(vgg_model, input_size=(1, 3, 224, 224), col_names=['input_size', 'output_size', 'num_params'], device='cpu')"
   ],
   "id": "81c19b8e00414744",
   "outputs": [
    {
     "data": {
      "text/plain": [
       "===================================================================================================================\n",
       "Layer (type:depth-idx)                   Input Shape               Output Shape              Param #\n",
       "===================================================================================================================\n",
       "VGGNet                                   [32, 3, 224, 224]         [32, 1000]                --\n",
       "├─Sequential: 1-1                        [32, 3, 224, 224]         [32, 64, 112, 112]        --\n",
       "│    └─Conv2d: 2-1                       [32, 3, 224, 224]         [32, 64, 224, 224]        1,792\n",
       "│    └─ReLU: 2-2                         [32, 64, 224, 224]        [32, 64, 224, 224]        --\n",
       "│    └─Conv2d: 2-3                       [32, 64, 224, 224]        [32, 64, 224, 224]        36,928\n",
       "│    └─ReLU: 2-4                         [32, 64, 224, 224]        [32, 64, 224, 224]        --\n",
       "│    └─MaxPool2d: 2-5                    [32, 64, 224, 224]        [32, 64, 112, 112]        --\n",
       "├─Sequential: 1-2                        [32, 64, 112, 112]        [32, 128, 56, 56]         --\n",
       "│    └─Conv2d: 2-6                       [32, 64, 112, 112]        [32, 128, 112, 112]       73,856\n",
       "│    └─ReLU: 2-7                         [32, 128, 112, 112]       [32, 128, 112, 112]       --\n",
       "│    └─Conv2d: 2-8                       [32, 128, 112, 112]       [32, 128, 112, 112]       147,584\n",
       "│    └─ReLU: 2-9                         [32, 128, 112, 112]       [32, 128, 112, 112]       --\n",
       "│    └─MaxPool2d: 2-10                   [32, 128, 112, 112]       [32, 128, 56, 56]         --\n",
       "├─Sequential: 1-3                        [32, 128, 56, 56]         [32, 256, 28, 28]         --\n",
       "│    └─Conv2d: 2-11                      [32, 128, 56, 56]         [32, 256, 56, 56]         295,168\n",
       "│    └─ReLU: 2-12                        [32, 256, 56, 56]         [32, 256, 56, 56]         --\n",
       "│    └─Conv2d: 2-13                      [32, 256, 56, 56]         [32, 256, 56, 56]         590,080\n",
       "│    └─ReLU: 2-14                        [32, 256, 56, 56]         [32, 256, 56, 56]         --\n",
       "│    └─Conv2d: 2-15                      [32, 256, 56, 56]         [32, 256, 56, 56]         590,080\n",
       "│    └─ReLU: 2-16                        [32, 256, 56, 56]         [32, 256, 56, 56]         --\n",
       "│    └─MaxPool2d: 2-17                   [32, 256, 56, 56]         [32, 256, 28, 28]         --\n",
       "├─Sequential: 1-4                        [32, 256, 28, 28]         [32, 512, 14, 14]         --\n",
       "│    └─Conv2d: 2-18                      [32, 256, 28, 28]         [32, 512, 28, 28]         1,180,160\n",
       "│    └─ReLU: 2-19                        [32, 512, 28, 28]         [32, 512, 28, 28]         --\n",
       "│    └─Conv2d: 2-20                      [32, 512, 28, 28]         [32, 512, 28, 28]         2,359,808\n",
       "│    └─ReLU: 2-21                        [32, 512, 28, 28]         [32, 512, 28, 28]         --\n",
       "│    └─Conv2d: 2-22                      [32, 512, 28, 28]         [32, 512, 28, 28]         2,359,808\n",
       "│    └─ReLU: 2-23                        [32, 512, 28, 28]         [32, 512, 28, 28]         --\n",
       "│    └─MaxPool2d: 2-24                   [32, 512, 28, 28]         [32, 512, 14, 14]         --\n",
       "├─Sequential: 1-5                        [32, 512, 14, 14]         [32, 512, 7, 7]           --\n",
       "│    └─Conv2d: 2-25                      [32, 512, 14, 14]         [32, 512, 14, 14]         2,359,808\n",
       "│    └─ReLU: 2-26                        [32, 512, 14, 14]         [32, 512, 14, 14]         --\n",
       "│    └─Conv2d: 2-27                      [32, 512, 14, 14]         [32, 512, 14, 14]         2,359,808\n",
       "│    └─ReLU: 2-28                        [32, 512, 14, 14]         [32, 512, 14, 14]         --\n",
       "│    └─Conv2d: 2-29                      [32, 512, 14, 14]         [32, 512, 14, 14]         2,359,808\n",
       "│    └─ReLU: 2-30                        [32, 512, 14, 14]         [32, 512, 14, 14]         --\n",
       "│    └─MaxPool2d: 2-31                   [32, 512, 14, 14]         [32, 512, 7, 7]           --\n",
       "├─Sequential: 1-6                        [32, 512, 7, 7]           [32, 1000]                --\n",
       "│    └─Flatten: 2-32                     [32, 512, 7, 7]           [32, 25088]               --\n",
       "│    └─Linear: 2-33                      [32, 25088]               [32, 4096]                102,764,544\n",
       "│    └─ReLU: 2-34                        [32, 4096]                [32, 4096]                --\n",
       "│    └─Linear: 2-35                      [32, 4096]                [32, 4096]                16,781,312\n",
       "│    └─ReLU: 2-36                        [32, 4096]                [32, 4096]                --\n",
       "│    └─Linear: 2-37                      [32, 4096]                [32, 1000]                4,097,000\n",
       "===================================================================================================================\n",
       "Total params: 138,357,544\n",
       "Trainable params: 138,357,544\n",
       "Non-trainable params: 0\n",
       "Total mult-adds (Units.GIGABYTES): 495.48\n",
       "===================================================================================================================\n",
       "Input size (MB): 19.27\n",
       "Forward/backward pass size (MB): 3470.52\n",
       "Params size (MB): 553.43\n",
       "Estimated Total Size (MB): 4043.22\n",
       "==================================================================================================================="
      ]
     },
     "execution_count": 3,
     "metadata": {},
     "output_type": "execute_result"
    }
   ],
   "execution_count": 3
  },
  {
   "metadata": {
    "ExecuteTime": {
     "end_time": "2024-10-10T12:09:29.129010Z",
     "start_time": "2024-10-10T12:09:22.755356Z"
    }
   },
   "cell_type": "code",
   "source": [
    "vgg_torch_model = models.vgg16().to('cpu')\n",
    "summary(vgg_torch_model, input_size=(1, 3, 224, 224), col_names=['input_size', 'output_size', 'num_params'], device='cpu')"
   ],
   "id": "db1cb73d8c7629f1",
   "outputs": [
    {
     "data": {
      "text/plain": [
       "===================================================================================================================\n",
       "Layer (type:depth-idx)                   Input Shape               Output Shape              Param #\n",
       "===================================================================================================================\n",
       "VGG                                      [32, 3, 224, 224]         [32, 1000]                --\n",
       "├─Sequential: 1-1                        [32, 3, 224, 224]         [32, 512, 7, 7]           --\n",
       "│    └─Conv2d: 2-1                       [32, 3, 224, 224]         [32, 64, 224, 224]        1,792\n",
       "│    └─ReLU: 2-2                         [32, 64, 224, 224]        [32, 64, 224, 224]        --\n",
       "│    └─Conv2d: 2-3                       [32, 64, 224, 224]        [32, 64, 224, 224]        36,928\n",
       "│    └─ReLU: 2-4                         [32, 64, 224, 224]        [32, 64, 224, 224]        --\n",
       "│    └─MaxPool2d: 2-5                    [32, 64, 224, 224]        [32, 64, 112, 112]        --\n",
       "│    └─Conv2d: 2-6                       [32, 64, 112, 112]        [32, 128, 112, 112]       73,856\n",
       "│    └─ReLU: 2-7                         [32, 128, 112, 112]       [32, 128, 112, 112]       --\n",
       "│    └─Conv2d: 2-8                       [32, 128, 112, 112]       [32, 128, 112, 112]       147,584\n",
       "│    └─ReLU: 2-9                         [32, 128, 112, 112]       [32, 128, 112, 112]       --\n",
       "│    └─MaxPool2d: 2-10                   [32, 128, 112, 112]       [32, 128, 56, 56]         --\n",
       "│    └─Conv2d: 2-11                      [32, 128, 56, 56]         [32, 256, 56, 56]         295,168\n",
       "│    └─ReLU: 2-12                        [32, 256, 56, 56]         [32, 256, 56, 56]         --\n",
       "│    └─Conv2d: 2-13                      [32, 256, 56, 56]         [32, 256, 56, 56]         590,080\n",
       "│    └─ReLU: 2-14                        [32, 256, 56, 56]         [32, 256, 56, 56]         --\n",
       "│    └─Conv2d: 2-15                      [32, 256, 56, 56]         [32, 256, 56, 56]         590,080\n",
       "│    └─ReLU: 2-16                        [32, 256, 56, 56]         [32, 256, 56, 56]         --\n",
       "│    └─MaxPool2d: 2-17                   [32, 256, 56, 56]         [32, 256, 28, 28]         --\n",
       "│    └─Conv2d: 2-18                      [32, 256, 28, 28]         [32, 512, 28, 28]         1,180,160\n",
       "│    └─ReLU: 2-19                        [32, 512, 28, 28]         [32, 512, 28, 28]         --\n",
       "│    └─Conv2d: 2-20                      [32, 512, 28, 28]         [32, 512, 28, 28]         2,359,808\n",
       "│    └─ReLU: 2-21                        [32, 512, 28, 28]         [32, 512, 28, 28]         --\n",
       "│    └─Conv2d: 2-22                      [32, 512, 28, 28]         [32, 512, 28, 28]         2,359,808\n",
       "│    └─ReLU: 2-23                        [32, 512, 28, 28]         [32, 512, 28, 28]         --\n",
       "│    └─MaxPool2d: 2-24                   [32, 512, 28, 28]         [32, 512, 14, 14]         --\n",
       "│    └─Conv2d: 2-25                      [32, 512, 14, 14]         [32, 512, 14, 14]         2,359,808\n",
       "│    └─ReLU: 2-26                        [32, 512, 14, 14]         [32, 512, 14, 14]         --\n",
       "│    └─Conv2d: 2-27                      [32, 512, 14, 14]         [32, 512, 14, 14]         2,359,808\n",
       "│    └─ReLU: 2-28                        [32, 512, 14, 14]         [32, 512, 14, 14]         --\n",
       "│    └─Conv2d: 2-29                      [32, 512, 14, 14]         [32, 512, 14, 14]         2,359,808\n",
       "│    └─ReLU: 2-30                        [32, 512, 14, 14]         [32, 512, 14, 14]         --\n",
       "│    └─MaxPool2d: 2-31                   [32, 512, 14, 14]         [32, 512, 7, 7]           --\n",
       "├─AdaptiveAvgPool2d: 1-2                 [32, 512, 7, 7]           [32, 512, 7, 7]           --\n",
       "├─Sequential: 1-3                        [32, 25088]               [32, 1000]                --\n",
       "│    └─Linear: 2-32                      [32, 25088]               [32, 4096]                102,764,544\n",
       "│    └─ReLU: 2-33                        [32, 4096]                [32, 4096]                --\n",
       "│    └─Dropout: 2-34                     [32, 4096]                [32, 4096]                --\n",
       "│    └─Linear: 2-35                      [32, 4096]                [32, 4096]                16,781,312\n",
       "│    └─ReLU: 2-36                        [32, 4096]                [32, 4096]                --\n",
       "│    └─Dropout: 2-37                     [32, 4096]                [32, 4096]                --\n",
       "│    └─Linear: 2-38                      [32, 4096]                [32, 1000]                4,097,000\n",
       "===================================================================================================================\n",
       "Total params: 138,357,544\n",
       "Trainable params: 138,357,544\n",
       "Non-trainable params: 0\n",
       "Total mult-adds (Units.GIGABYTES): 495.48\n",
       "===================================================================================================================\n",
       "Input size (MB): 19.27\n",
       "Forward/backward pass size (MB): 3470.52\n",
       "Params size (MB): 553.43\n",
       "Estimated Total Size (MB): 4043.22\n",
       "==================================================================================================================="
      ]
     },
     "execution_count": 4,
     "metadata": {},
     "output_type": "execute_result"
    }
   ],
   "execution_count": 4
  },
  {
   "metadata": {
    "ExecuteTime": {
     "end_time": "2024-10-10T12:09:29.151655Z",
     "start_time": "2024-10-10T12:09:29.149011Z"
    }
   },
   "cell_type": "code",
   "source": "del vgg_model",
   "id": "bc90034498319e00",
   "outputs": [],
   "execution_count": 5
  },
  {
   "metadata": {},
   "cell_type": "markdown",
   "source": "## Training",
   "id": "e2f0ce17f284d70c"
  },
  {
   "metadata": {
    "ExecuteTime": {
     "end_time": "2024-10-10T12:09:38.304112Z",
     "start_time": "2024-10-10T12:09:29.194661Z"
    }
   },
   "cell_type": "code",
   "source": [
    "from pathlib import Path\n",
    "\n",
    "TRAIN_RATIO = 0.8\n",
    "data_dir = Path('./data/')\n",
    "\n",
    "transform = transforms.Compose([\n",
    "    transforms.Resize(256),\n",
    "    transforms.CenterCrop(224),\n",
    "    transforms.ToTensor(),\n",
    "    transforms.Normalize(mean=[0.485, 0.456, 0.406], std=[0.229, 0.224, 0.225])\n",
    "])\n",
    "\n",
    "train_ds = datasets.STL10(data_dir, split='train', download=True, transform=transform)\n",
    "train_ds, val_ds = random_split(train_ds, (TRAIN_RATIO, 1 - TRAIN_RATIO))\n",
    "val_ds.transform = transform\n",
    "test_ds = datasets.STL10(data_dir, split='test', download=True, transform=transform)"
   ],
   "id": "42d21d784414347d",
   "outputs": [
    {
     "name": "stdout",
     "output_type": "stream",
     "text": [
      "Files already downloaded and verified\n",
      "Files already downloaded and verified\n"
     ]
    }
   ],
   "execution_count": 6
  },
  {
   "metadata": {
    "ExecuteTime": {
     "end_time": "2024-10-10T12:15:13.705880Z",
     "start_time": "2024-10-10T12:09:38.311252Z"
    }
   },
   "cell_type": "code",
   "source": [
    "import wandb\n",
    "from src.engine import *\n",
    "\n",
    "config = dict(batch_size=16, lr=3e-3, epochs=5, dataset='STL10')\n",
    "with wandb.init(project='pytorch-study', name='VGG16', config=config) as run:\n",
    "    w_config = run.config\n",
    "    train_dl = DataLoader(train_ds, batch_size=w_config.batch_size, shuffle=True)\n",
    "    val_dl = DataLoader(val_ds, batch_size=w_config.batch_size, shuffle=True)\n",
    "    \n",
    "    n_classes = len(train_ds.dataset.classes)\n",
    "    vgg_model = VGGNet(3, n_classes).to(DEVICE)\n",
    "        \n",
    "    criterion = nn.CrossEntropyLoss()\n",
    "    optimizer = optim.Adam(vgg_model.parameters(), lr=w_config.lr, weight_decay=0.3)\n",
    "    \n",
    "    loss_history, acc_history = train(vgg_model, train_dl, val_dl, criterion, optimizer, w_config.epochs, DEVICE, run) "
   ],
   "id": "7feb6758495dd8a0",
   "outputs": [
    {
     "name": "stderr",
     "output_type": "stream",
     "text": [
      "Epoch=5: 100%|██████████| 5/5 [05:26<00:00, 65.36s/it, train_loss=2.303, train_acc=10.37%, val_loss=2.303, val_acc=8.81%]\n"
     ]
    }
   ],
   "execution_count": 7
  }
 ],
 "metadata": {
  "kernelspec": {
   "display_name": "Python 3",
   "language": "python",
   "name": "python3"
  },
  "language_info": {
   "codemirror_mode": {
    "name": "ipython",
    "version": 2
   },
   "file_extension": ".py",
   "mimetype": "text/x-python",
   "name": "python",
   "nbconvert_exporter": "python",
   "pygments_lexer": "ipython2",
   "version": "2.7.6"
  }
 },
 "nbformat": 4,
 "nbformat_minor": 5
}
