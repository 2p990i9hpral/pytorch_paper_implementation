{
 "cells": [
  {
   "cell_type": "code",
   "id": "initial_id",
   "metadata": {
    "collapsed": true,
    "ExecuteTime": {
     "end_time": "2024-10-14T05:13:36.943496Z",
     "start_time": "2024-10-14T05:13:33.435375Z"
    }
   },
   "source": [
    "import torch\n",
    "from torch import nn, optim\n",
    "from torch.utils.data import random_split, DataLoader\n",
    "from torchinfo import summary\n",
    "from torchvision import datasets, transforms, models\n",
    "\n",
    "DEVICE = \"cuda\" if torch.cuda.is_available() else \"cpu\"\n",
    "print(DEVICE)"
   ],
   "outputs": [
    {
     "name": "stdout",
     "output_type": "stream",
     "text": [
      "cuda\n"
     ]
    }
   ],
   "execution_count": 1
  },
  {
   "metadata": {},
   "cell_type": "markdown",
   "source": "## Implementatation",
   "id": "6728b1ca1cd1e4dc"
  },
  {
   "metadata": {
    "ExecuteTime": {
     "end_time": "2024-10-14T05:13:36.988123Z",
     "start_time": "2024-10-14T05:13:36.957507Z"
    }
   },
   "cell_type": "code",
   "source": [
    "class ConvBlock(nn.Module):\n",
    "    def __init__(self, in_channels, out_channels, **kwargs):\n",
    "        super().__init__()\n",
    "        self.conv = nn.Sequential(\n",
    "            nn.Conv2d(in_channels, out_channels, bias=False, **kwargs),\n",
    "            nn.BatchNorm2d(out_channels),\n",
    "            nn.ReLU(),\n",
    "        )\n",
    "    \n",
    "    def forward(self, x):\n",
    "        return self.conv(x)\n",
    "\n",
    "\n",
    "class InceptionBlock(nn.Module):\n",
    "    def __init__(self, in_channels, ch1, ch3_r, ch3, ch5_r, ch5, ch1_p):\n",
    "        super().__init__()\n",
    "        self.branch1 = ConvBlock(in_channels, ch1, kernel_size=1)\n",
    "        self.branch2 = nn.Sequential(\n",
    "            ConvBlock(in_channels, ch3_r, kernel_size=1),\n",
    "            ConvBlock(ch3_r, ch3, kernel_size=3, padding=1),\n",
    "        )\n",
    "        self.branch3 = nn.Sequential(\n",
    "            ConvBlock(in_channels, ch5_r, kernel_size=1),\n",
    "            ConvBlock(ch5_r, ch5, kernel_size=5, padding=2),\n",
    "        )\n",
    "        self.branch4 = nn.Sequential(\n",
    "            nn.MaxPool2d(kernel_size=3, stride=1, padding=1),\n",
    "            ConvBlock(in_channels, ch1_p, kernel_size=1)\n",
    "        )\n",
    "    \n",
    "    def forward(self, x):\n",
    "        branch1 = self.branch1(x)\n",
    "        branch2 = self.branch2(x)\n",
    "        branch3 = self.branch3(x)\n",
    "        branch4 = self.branch4(x)\n",
    "        out = torch.cat((branch1, branch2, branch3, branch4), dim=1)\n",
    "        return out\n",
    "\n",
    "\n",
    "class AuxiliaryClassifier(nn.Module):\n",
    "    def __init__(self, in_channels, n_classes):\n",
    "        super().__init__()\n",
    "        self.avg_pool = nn.AvgPool2d(5, stride=3)\n",
    "        self.conv1 = ConvBlock(in_channels, 128, kernel_size=1)\n",
    "        self.classifier = nn.Sequential(\n",
    "            nn.Flatten(),\n",
    "            nn.Linear(2048, 1024),\n",
    "            nn.ReLU(),\n",
    "            nn.Dropout(0.7),\n",
    "            nn.Linear(1024, n_classes)\n",
    "        ) \n",
    "    def forward(self, x):\n",
    "        return x\n",
    "\n",
    "\n",
    "InceptionBlock(192, 64, 96, 128, 16, 32, 32)(torch.rand(1, 192, 28, 28)).shape"
   ],
   "id": "8b2fec58a8cfaee4",
   "outputs": [
    {
     "data": {
      "text/plain": [
       "torch.Size([1, 256, 28, 28])"
      ]
     },
     "execution_count": 2,
     "metadata": {},
     "output_type": "execute_result"
    }
   ],
   "execution_count": 2
  },
  {
   "metadata": {
    "ExecuteTime": {
     "end_time": "2024-10-14T05:13:37.225680Z",
     "start_time": "2024-10-14T05:13:37.216321Z"
    }
   },
   "cell_type": "code",
   "source": [
    "class InceptionNetV1(nn.Module):\n",
    "    def __init__(self, n_channels, n_classes, use_aux):\n",
    "        super().__init__()\n",
    "        \n",
    "        self.use_aux = use_aux\n",
    "        \n",
    "        self.conv1 = ConvBlock(n_channels, 64, kernel_size=7, stride=2, padding=3)\n",
    "        self.maxpool1 = nn.MaxPool2d(kernel_size=3, stride=2, padding=1)\n",
    "        self.conv2 = ConvBlock(64, 64, kernel_size=1)\n",
    "        self.conv3 = ConvBlock(64, 192, kernel_size=3, padding=1)\n",
    "        self.maxpool2 = nn.MaxPool2d(kernel_size=3, stride=2, padding=1)\n",
    "        \n",
    "        self.inception_3a = InceptionBlock(192, 64, 96, 128, 16, 32, 32)\n",
    "        self.inception_3b = InceptionBlock(256, 128, 128, 192, 32, 96, 64)\n",
    "        self.maxpool3 = nn.MaxPool2d(kernel_size=3, stride=2, padding=1)\n",
    "        \n",
    "        self.inception_4a = InceptionBlock(480, 192, 96, 208, 16, 48, 64)\n",
    "        self.aux_classifier1 = AuxiliaryClassifier(512, n_classes) if self.use_aux else None\n",
    "        self.inception_4b = InceptionBlock(512, 160, 112, 224, 24, 64, 64)\n",
    "        self.inception_4c = InceptionBlock(512, 128, 128, 256, 24, 64, 64)\n",
    "        self.inception_4d = InceptionBlock(512, 112, 144, 288, 32, 64, 64)\n",
    "        self.aux_classifier2 = AuxiliaryClassifier(528, n_classes) if self.use_aux else None\n",
    "        self.inception_4e = InceptionBlock(528, 256, 160, 320, 32, 128, 128)\n",
    "        self.maxpool4 = nn.MaxPool2d(kernel_size=3, stride=2, padding=1)\n",
    "        \n",
    "        self.inception_5a = InceptionBlock(832, 256, 160, 320, 32, 128, 128)\n",
    "        self.inception_5b = InceptionBlock(832, 384, 192, 384, 48, 128, 128)\n",
    "        \n",
    "        self.avgpool = nn.AdaptiveAvgPool2d((1, 1))\n",
    "        self.classifier = nn.Sequential(\n",
    "            nn.Flatten(),\n",
    "            nn.Dropout(0.5),\n",
    "            nn.Linear(1024, n_classes),\n",
    "        )\n",
    "        \n",
    "    def forward(self, x):\n",
    "        x = self.conv1(x)\n",
    "        x = self.maxpool1(x)\n",
    "        x = self.conv2(x)\n",
    "        x = self.conv3(x)\n",
    "        x = self.maxpool2(x)\n",
    "        x = self.inception_3a(x)\n",
    "        x = self.inception_3b(x)\n",
    "        x = self.maxpool3(x)\n",
    "        x = self.inception_4a(x)\n",
    "        aux_loss1 = self.aux_classifier1(x) if self.use_aux and self.training else None\n",
    "        x = self.inception_4b(x)\n",
    "        x = self.inception_4c(x)\n",
    "        x = self.inception_4d(x)\n",
    "        aux_loss2 = self.aux_classifier2(x)  if self.use_aux and self.training else None\n",
    "        x = self.inception_4e(x)\n",
    "        x = self.maxpool4(x)\n",
    "        x = self.inception_5a(x)\n",
    "        x = self.inception_5b(x)\n",
    "        x = self.avgpool(x)\n",
    "        x = self.classifier(x)\n",
    "        \n",
    "        return (x, aux_loss1, aux_loss2) if self.use_aux else x"
   ],
   "id": "8f6ffb7b9ada31d4",
   "outputs": [],
   "execution_count": 3
  },
  {
   "metadata": {
    "ExecuteTime": {
     "end_time": "2024-10-14T05:13:37.560126Z",
     "start_time": "2024-10-14T05:13:37.247146Z"
    }
   },
   "cell_type": "code",
   "source": [
    "inception_v1_model = InceptionNetV1(3, 1000, use_aux=True).to('cpu')\n",
    "summary(inception_v1_model, input_size=(1, 3, 224, 224), col_names=['input_size', 'output_size', 'num_params'], device='cpu', depth=2)"
   ],
   "id": "81c19b8e00414744",
   "outputs": [
    {
     "data": {
      "text/plain": [
       "========================================================================================================================\n",
       "Layer (type:depth-idx)                        Input Shape               Output Shape              Param #\n",
       "========================================================================================================================\n",
       "InceptionNetV1                                [1, 3, 224, 224]          [1, 1000]                 6,379,984\n",
       "├─ConvBlock: 1-1                              [1, 3, 224, 224]          [1, 64, 112, 112]         --\n",
       "│    └─Sequential: 2-1                        [1, 3, 224, 224]          [1, 64, 112, 112]         9,536\n",
       "├─MaxPool2d: 1-2                              [1, 64, 112, 112]         [1, 64, 56, 56]           --\n",
       "├─ConvBlock: 1-3                              [1, 64, 56, 56]           [1, 64, 56, 56]           --\n",
       "│    └─Sequential: 2-2                        [1, 64, 56, 56]           [1, 64, 56, 56]           4,224\n",
       "├─ConvBlock: 1-4                              [1, 64, 56, 56]           [1, 192, 56, 56]          --\n",
       "│    └─Sequential: 2-3                        [1, 64, 56, 56]           [1, 192, 56, 56]          110,976\n",
       "├─MaxPool2d: 1-5                              [1, 192, 56, 56]          [1, 192, 28, 28]          --\n",
       "├─InceptionBlock: 1-6                         [1, 192, 28, 28]          [1, 256, 28, 28]          --\n",
       "│    └─ConvBlock: 2-4                         [1, 192, 28, 28]          [1, 64, 28, 28]           12,416\n",
       "│    └─Sequential: 2-5                        [1, 192, 28, 28]          [1, 128, 28, 28]          129,472\n",
       "│    └─Sequential: 2-6                        [1, 192, 28, 28]          [1, 32, 28, 28]           15,968\n",
       "│    └─Sequential: 2-7                        [1, 192, 28, 28]          [1, 32, 28, 28]           6,208\n",
       "├─InceptionBlock: 1-7                         [1, 256, 28, 28]          [1, 480, 28, 28]          --\n",
       "│    └─ConvBlock: 2-8                         [1, 256, 28, 28]          [1, 128, 28, 28]          33,024\n",
       "│    └─Sequential: 2-9                        [1, 256, 28, 28]          [1, 192, 28, 28]          254,592\n",
       "│    └─Sequential: 2-10                       [1, 256, 28, 28]          [1, 96, 28, 28]           85,248\n",
       "│    └─Sequential: 2-11                       [1, 256, 28, 28]          [1, 64, 28, 28]           16,512\n",
       "├─MaxPool2d: 1-8                              [1, 480, 28, 28]          [1, 480, 14, 14]          --\n",
       "├─InceptionBlock: 1-9                         [1, 480, 14, 14]          [1, 512, 14, 14]          --\n",
       "│    └─ConvBlock: 2-12                        [1, 480, 14, 14]          [1, 192, 14, 14]          92,544\n",
       "│    └─Sequential: 2-13                       [1, 480, 14, 14]          [1, 208, 14, 14]          226,400\n",
       "│    └─Sequential: 2-14                       [1, 480, 14, 14]          [1, 48, 14, 14]           27,008\n",
       "│    └─Sequential: 2-15                       [1, 480, 14, 14]          [1, 64, 14, 14]           30,848\n",
       "├─InceptionBlock: 1-10                        [1, 512, 14, 14]          [1, 512, 14, 14]          --\n",
       "│    └─ConvBlock: 2-16                        [1, 512, 14, 14]          [1, 160, 14, 14]          82,240\n",
       "│    └─Sequential: 2-17                       [1, 512, 14, 14]          [1, 224, 14, 14]          283,808\n",
       "│    └─Sequential: 2-18                       [1, 512, 14, 14]          [1, 64, 14, 14]           50,864\n",
       "│    └─Sequential: 2-19                       [1, 512, 14, 14]          [1, 64, 14, 14]           32,896\n",
       "├─InceptionBlock: 1-11                        [1, 512, 14, 14]          [1, 512, 14, 14]          --\n",
       "│    └─ConvBlock: 2-20                        [1, 512, 14, 14]          [1, 128, 14, 14]          65,792\n",
       "│    └─Sequential: 2-21                       [1, 512, 14, 14]          [1, 256, 14, 14]          361,216\n",
       "│    └─Sequential: 2-22                       [1, 512, 14, 14]          [1, 64, 14, 14]           50,864\n",
       "│    └─Sequential: 2-23                       [1, 512, 14, 14]          [1, 64, 14, 14]           32,896\n",
       "├─InceptionBlock: 1-12                        [1, 512, 14, 14]          [1, 528, 14, 14]          --\n",
       "│    └─ConvBlock: 2-24                        [1, 512, 14, 14]          [1, 112, 14, 14]          57,568\n",
       "│    └─Sequential: 2-25                       [1, 512, 14, 14]          [1, 288, 14, 14]          447,840\n",
       "│    └─Sequential: 2-26                       [1, 512, 14, 14]          [1, 64, 14, 14]           67,776\n",
       "│    └─Sequential: 2-27                       [1, 512, 14, 14]          [1, 64, 14, 14]           32,896\n",
       "├─InceptionBlock: 1-13                        [1, 528, 14, 14]          [1, 832, 14, 14]          --\n",
       "│    └─ConvBlock: 2-28                        [1, 528, 14, 14]          [1, 256, 14, 14]          135,680\n",
       "│    └─Sequential: 2-29                       [1, 528, 14, 14]          [1, 320, 14, 14]          546,240\n",
       "│    └─Sequential: 2-30                       [1, 528, 14, 14]          [1, 128, 14, 14]          119,616\n",
       "│    └─Sequential: 2-31                       [1, 528, 14, 14]          [1, 128, 14, 14]          67,840\n",
       "├─MaxPool2d: 1-14                             [1, 832, 14, 14]          [1, 832, 7, 7]            --\n",
       "├─InceptionBlock: 1-15                        [1, 832, 7, 7]            [1, 832, 7, 7]            --\n",
       "│    └─ConvBlock: 2-32                        [1, 832, 7, 7]            [1, 256, 7, 7]            213,504\n",
       "│    └─Sequential: 2-33                       [1, 832, 7, 7]            [1, 320, 7, 7]            594,880\n",
       "│    └─Sequential: 2-34                       [1, 832, 7, 7]            [1, 128, 7, 7]            129,344\n",
       "│    └─Sequential: 2-35                       [1, 832, 7, 7]            [1, 128, 7, 7]            106,752\n",
       "├─InceptionBlock: 1-16                        [1, 832, 7, 7]            [1, 1024, 7, 7]           --\n",
       "│    └─ConvBlock: 2-36                        [1, 832, 7, 7]            [1, 384, 7, 7]            320,256\n",
       "│    └─Sequential: 2-37                       [1, 832, 7, 7]            [1, 384, 7, 7]            824,448\n",
       "│    └─Sequential: 2-38                       [1, 832, 7, 7]            [1, 128, 7, 7]            193,888\n",
       "│    └─Sequential: 2-39                       [1, 832, 7, 7]            [1, 128, 7, 7]            106,752\n",
       "├─AdaptiveAvgPool2d: 1-17                     [1, 1024, 7, 7]           [1, 1024, 1, 1]           --\n",
       "├─Sequential: 1-18                            [1, 1024, 1, 1]           [1, 1000]                 --\n",
       "│    └─Flatten: 2-40                          [1, 1024, 1, 1]           [1, 1024]                 --\n",
       "│    └─Dropout: 2-41                          [1, 1024]                 [1, 1024]                 --\n",
       "│    └─Linear: 2-42                           [1, 1024]                 [1, 1000]                 1,025,000\n",
       "========================================================================================================================\n",
       "Total params: 13,385,816\n",
       "Trainable params: 13,385,816\n",
       "Non-trainable params: 0\n",
       "Total mult-adds (Units.GIGABYTES): 1.58\n",
       "========================================================================================================================\n",
       "Input size (MB): 0.60\n",
       "Forward/backward pass size (MB): 51.63\n",
       "Params size (MB): 28.02\n",
       "Estimated Total Size (MB): 80.25\n",
       "========================================================================================================================"
      ]
     },
     "execution_count": 4,
     "metadata": {},
     "output_type": "execute_result"
    }
   ],
   "execution_count": 4
  },
  {
   "metadata": {
    "ExecuteTime": {
     "end_time": "2024-10-14T05:13:37.905965Z",
     "start_time": "2024-10-14T05:13:37.569633Z"
    }
   },
   "cell_type": "code",
   "source": [
    "inception_v1_torch_model = models.googlenet().to('cpu')\n",
    "summary(inception_v1_torch_model, input_size=(1, 3, 224, 224), col_names=['input_size', 'output_size', 'num_params'], device='cpu', depth=2)"
   ],
   "id": "db1cb73d8c7629f1",
   "outputs": [
    {
     "name": "stderr",
     "output_type": "stream",
     "text": [
      "C:\\Users\\dk\\.pipenv\\paper_implementation-aJVmDThZ\\Lib\\site-packages\\torchvision\\models\\googlenet.py:47: FutureWarning: The default weight initialization of GoogleNet will be changed in future releases of torchvision. If you wish to keep the old behavior (which leads to long initialization times due to scipy/scipy#11299), please set init_weights=True.\n",
      "  warnings.warn(\n"
     ]
    },
    {
     "data": {
      "text/plain": [
       "===================================================================================================================\n",
       "Layer (type:depth-idx)                   Input Shape               Output Shape              Param #\n",
       "===================================================================================================================\n",
       "GoogLeNet                                [1, 3, 224, 224]          [1, 1000]                 6,379,984\n",
       "├─BasicConv2d: 1-1                       [1, 3, 224, 224]          [1, 64, 112, 112]         --\n",
       "│    └─Conv2d: 2-1                       [1, 3, 224, 224]          [1, 64, 112, 112]         9,408\n",
       "│    └─BatchNorm2d: 2-2                  [1, 64, 112, 112]         [1, 64, 112, 112]         128\n",
       "├─MaxPool2d: 1-2                         [1, 64, 112, 112]         [1, 64, 56, 56]           --\n",
       "├─BasicConv2d: 1-3                       [1, 64, 56, 56]           [1, 64, 56, 56]           --\n",
       "│    └─Conv2d: 2-3                       [1, 64, 56, 56]           [1, 64, 56, 56]           4,096\n",
       "│    └─BatchNorm2d: 2-4                  [1, 64, 56, 56]           [1, 64, 56, 56]           128\n",
       "├─BasicConv2d: 1-4                       [1, 64, 56, 56]           [1, 192, 56, 56]          --\n",
       "│    └─Conv2d: 2-5                       [1, 64, 56, 56]           [1, 192, 56, 56]          110,592\n",
       "│    └─BatchNorm2d: 2-6                  [1, 192, 56, 56]          [1, 192, 56, 56]          384\n",
       "├─MaxPool2d: 1-5                         [1, 192, 56, 56]          [1, 192, 28, 28]          --\n",
       "├─Inception: 1-6                         [1, 192, 28, 28]          [1, 256, 28, 28]          --\n",
       "│    └─BasicConv2d: 2-7                  [1, 192, 28, 28]          [1, 64, 28, 28]           12,416\n",
       "│    └─Sequential: 2-8                   [1, 192, 28, 28]          [1, 128, 28, 28]          129,472\n",
       "│    └─Sequential: 2-9                   [1, 192, 28, 28]          [1, 32, 28, 28]           7,776\n",
       "│    └─Sequential: 2-10                  [1, 192, 28, 28]          [1, 32, 28, 28]           6,208\n",
       "├─Inception: 1-7                         [1, 256, 28, 28]          [1, 480, 28, 28]          --\n",
       "│    └─BasicConv2d: 2-11                 [1, 256, 28, 28]          [1, 128, 28, 28]          33,024\n",
       "│    └─Sequential: 2-12                  [1, 256, 28, 28]          [1, 192, 28, 28]          254,592\n",
       "│    └─Sequential: 2-13                  [1, 256, 28, 28]          [1, 96, 28, 28]           36,096\n",
       "│    └─Sequential: 2-14                  [1, 256, 28, 28]          [1, 64, 28, 28]           16,512\n",
       "├─MaxPool2d: 1-8                         [1, 480, 28, 28]          [1, 480, 14, 14]          --\n",
       "├─Inception: 1-9                         [1, 480, 14, 14]          [1, 512, 14, 14]          --\n",
       "│    └─BasicConv2d: 2-15                 [1, 480, 14, 14]          [1, 192, 14, 14]          92,544\n",
       "│    └─Sequential: 2-16                  [1, 480, 14, 14]          [1, 208, 14, 14]          226,400\n",
       "│    └─Sequential: 2-17                  [1, 480, 14, 14]          [1, 48, 14, 14]           14,720\n",
       "│    └─Sequential: 2-18                  [1, 480, 14, 14]          [1, 64, 14, 14]           30,848\n",
       "├─Inception: 1-10                        [1, 512, 14, 14]          [1, 512, 14, 14]          --\n",
       "│    └─BasicConv2d: 2-19                 [1, 512, 14, 14]          [1, 160, 14, 14]          82,240\n",
       "│    └─Sequential: 2-20                  [1, 512, 14, 14]          [1, 224, 14, 14]          283,808\n",
       "│    └─Sequential: 2-21                  [1, 512, 14, 14]          [1, 64, 14, 14]           26,288\n",
       "│    └─Sequential: 2-22                  [1, 512, 14, 14]          [1, 64, 14, 14]           32,896\n",
       "├─Inception: 1-11                        [1, 512, 14, 14]          [1, 512, 14, 14]          --\n",
       "│    └─BasicConv2d: 2-23                 [1, 512, 14, 14]          [1, 128, 14, 14]          65,792\n",
       "│    └─Sequential: 2-24                  [1, 512, 14, 14]          [1, 256, 14, 14]          361,216\n",
       "│    └─Sequential: 2-25                  [1, 512, 14, 14]          [1, 64, 14, 14]           26,288\n",
       "│    └─Sequential: 2-26                  [1, 512, 14, 14]          [1, 64, 14, 14]           32,896\n",
       "├─Inception: 1-12                        [1, 512, 14, 14]          [1, 528, 14, 14]          --\n",
       "│    └─BasicConv2d: 2-27                 [1, 512, 14, 14]          [1, 112, 14, 14]          57,568\n",
       "│    └─Sequential: 2-28                  [1, 512, 14, 14]          [1, 288, 14, 14]          447,840\n",
       "│    └─Sequential: 2-29                  [1, 512, 14, 14]          [1, 64, 14, 14]           35,008\n",
       "│    └─Sequential: 2-30                  [1, 512, 14, 14]          [1, 64, 14, 14]           32,896\n",
       "├─Inception: 1-13                        [1, 528, 14, 14]          [1, 832, 14, 14]          --\n",
       "│    └─BasicConv2d: 2-31                 [1, 528, 14, 14]          [1, 256, 14, 14]          135,680\n",
       "│    └─Sequential: 2-32                  [1, 528, 14, 14]          [1, 320, 14, 14]          546,240\n",
       "│    └─Sequential: 2-33                  [1, 528, 14, 14]          [1, 128, 14, 14]          54,080\n",
       "│    └─Sequential: 2-34                  [1, 528, 14, 14]          [1, 128, 14, 14]          67,840\n",
       "├─MaxPool2d: 1-14                        [1, 832, 14, 14]          [1, 832, 7, 7]            --\n",
       "├─Inception: 1-15                        [1, 832, 7, 7]            [1, 832, 7, 7]            --\n",
       "│    └─BasicConv2d: 2-35                 [1, 832, 7, 7]            [1, 256, 7, 7]            213,504\n",
       "│    └─Sequential: 2-36                  [1, 832, 7, 7]            [1, 320, 7, 7]            594,880\n",
       "│    └─Sequential: 2-37                  [1, 832, 7, 7]            [1, 128, 7, 7]            63,808\n",
       "│    └─Sequential: 2-38                  [1, 832, 7, 7]            [1, 128, 7, 7]            106,752\n",
       "├─Inception: 1-16                        [1, 832, 7, 7]            [1, 1024, 7, 7]           --\n",
       "│    └─BasicConv2d: 2-39                 [1, 832, 7, 7]            [1, 384, 7, 7]            320,256\n",
       "│    └─Sequential: 2-40                  [1, 832, 7, 7]            [1, 384, 7, 7]            824,448\n",
       "│    └─Sequential: 2-41                  [1, 832, 7, 7]            [1, 128, 7, 7]            95,584\n",
       "│    └─Sequential: 2-42                  [1, 832, 7, 7]            [1, 128, 7, 7]            106,752\n",
       "├─AdaptiveAvgPool2d: 1-17                [1, 1024, 7, 7]           [1, 1024, 1, 1]           --\n",
       "├─Dropout: 1-18                          [1, 1024]                 [1, 1024]                 --\n",
       "├─Linear: 1-19                           [1, 1024]                 [1, 1000]                 1,025,000\n",
       "===================================================================================================================\n",
       "Total params: 13,004,888\n",
       "Trainable params: 13,004,888\n",
       "Non-trainable params: 0\n",
       "Total mult-adds (Units.GIGABYTES): 1.50\n",
       "===================================================================================================================\n",
       "Input size (MB): 0.60\n",
       "Forward/backward pass size (MB): 51.63\n",
       "Params size (MB): 26.50\n",
       "Estimated Total Size (MB): 78.73\n",
       "==================================================================================================================="
      ]
     },
     "execution_count": 5,
     "metadata": {},
     "output_type": "execute_result"
    }
   ],
   "execution_count": 5
  },
  {
   "metadata": {},
   "cell_type": "markdown",
   "source": "## Training",
   "id": "e2f0ce17f284d70c"
  },
  {
   "metadata": {
    "ExecuteTime": {
     "end_time": "2024-10-14T05:13:39.285683Z",
     "start_time": "2024-10-14T05:13:37.916115Z"
    }
   },
   "cell_type": "code",
   "source": [
    "from pathlib import Path\n",
    "\n",
    "TRAIN_RATIO = 0.8\n",
    "data_dir = Path('./data/')\n",
    "\n",
    "transform = transforms.Compose([\n",
    "    transforms.Resize(224),\n",
    "    transforms.ToTensor(),\n",
    "])\n",
    "\n",
    "train_ds = datasets.CIFAR100(data_dir, train=True, download=True, transform=transform)\n",
    "train_ds, val_ds = random_split(train_ds, (TRAIN_RATIO, 1 - TRAIN_RATIO))\n",
    "val_ds.transform = transform\n",
    "test_ds = datasets.CIFAR100(data_dir, train=False, download=True, transform=transform)"
   ],
   "id": "42d21d784414347d",
   "outputs": [
    {
     "name": "stdout",
     "output_type": "stream",
     "text": [
      "Files already downloaded and verified\n",
      "Files already downloaded and verified\n"
     ]
    }
   ],
   "execution_count": 6
  },
  {
   "metadata": {
    "jupyter": {
     "is_executing": true
    },
    "ExecuteTime": {
     "start_time": "2024-10-14T05:13:39.294886Z"
    }
   },
   "cell_type": "code",
   "source": [
    "import wandb\n",
    "from src.engine import *\n",
    "\n",
    "config = dict(batch_size=128, lr=5e-4, epochs=20, dataset='CIFAR100')\n",
    "with wandb.init(project='pytorch-study', name='InceptionV1', config=config) as run:\n",
    "    w_config = run.config\n",
    "    train_dl = DataLoader(train_ds, batch_size=w_config.batch_size, shuffle=True)\n",
    "    val_dl = DataLoader(val_ds, batch_size=w_config.batch_size, shuffle=True)\n",
    "    \n",
    "    n_classes = len(train_ds.dataset.classes)\n",
    "    vgg_model = InceptionNetV1(3, 1000, use_aux=False).to(DEVICE)\n",
    "        \n",
    "    criterion = nn.CrossEntropyLoss()\n",
    "    optimizer = optim.Adam(vgg_model.parameters(), lr=w_config.lr)\n",
    "    \n",
    "    loss_history, acc_history = train(vgg_model, train_dl, val_dl, criterion, optimizer, w_config.epochs, DEVICE, run) "
   ],
   "id": "7feb6758495dd8a0",
   "outputs": [
    {
     "name": "stderr",
     "output_type": "stream",
     "text": [
      "Epoch=1:   0%|          | 0/20 [00:00<?, ?it/s]"
     ]
    }
   ],
   "execution_count": null
  }
 ],
 "metadata": {
  "kernelspec": {
   "display_name": "Python 3",
   "language": "python",
   "name": "python3"
  },
  "language_info": {
   "codemirror_mode": {
    "name": "ipython",
    "version": 2
   },
   "file_extension": ".py",
   "mimetype": "text/x-python",
   "name": "python",
   "nbconvert_exporter": "python",
   "pygments_lexer": "ipython2",
   "version": "2.7.6"
  }
 },
 "nbformat": 4,
 "nbformat_minor": 5
}
