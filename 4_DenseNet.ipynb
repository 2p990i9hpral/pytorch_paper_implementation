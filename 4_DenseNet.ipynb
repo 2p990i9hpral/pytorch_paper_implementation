{
 "cells": [
  {
   "cell_type": "code",
   "id": "initial_id",
   "metadata": {
    "collapsed": true,
    "ExecuteTime": {
     "end_time": "2024-10-13T14:23:21.839858Z",
     "start_time": "2024-10-13T14:23:19.067270Z"
    }
   },
   "source": [
    "import torch\n",
    "from torch import nn, optim\n",
    "from torch.utils.data import random_split, DataLoader\n",
    "from torchinfo import summary\n",
    "from torchvision import datasets, transforms, models\n",
    "\n",
    "DEVICE = \"cuda\" if torch.cuda.is_available() else \"cpu\"\n",
    "print(DEVICE)"
   ],
   "outputs": [
    {
     "name": "stdout",
     "output_type": "stream",
     "text": [
      "cuda\n"
     ]
    }
   ],
   "execution_count": 1
  },
  {
   "metadata": {},
   "cell_type": "markdown",
   "source": "## Implementatation",
   "id": "6728b1ca1cd1e4dc"
  },
  {
   "metadata": {
    "ExecuteTime": {
     "end_time": "2024-10-13T14:23:21.856574Z",
     "start_time": "2024-10-13T14:23:21.845502Z"
    }
   },
   "cell_type": "code",
   "source": [
    "class BottleNeckBlock(nn.Module):\n",
    "    def __init__(self, in_channels, growth_rate):\n",
    "        super().__init__()\n",
    "        self.norm1 = nn.BatchNorm2d(in_channels)\n",
    "        self.relu1 = nn.ReLU()\n",
    "        self.conv1 = nn.Conv2d(in_channels, growth_rate * 4, kernel_size=1, bias=False)\n",
    "        self.norm2 = nn.BatchNorm2d(growth_rate * 4)\n",
    "        self.relu2 = nn.ReLU()\n",
    "        self.conv2 = nn.Conv2d(growth_rate * 4, growth_rate, kernel_size=3, padding=1, bias=False)\n",
    "    \n",
    "    def forward(self, x):\n",
    "        x = self.norm1(x)\n",
    "        x = self.relu1(x)\n",
    "        x = self.conv1(x)\n",
    "        x = self.norm2(x)\n",
    "        x = self.relu2(x)\n",
    "        x = self.conv2(x)\n",
    "        return x\n",
    "\n",
    "\n",
    "class DenseBlock(nn.Sequential):\n",
    "    def __init__(self, input_channels, growth_rate, n_blocks):\n",
    "        super().__init__()\n",
    "        self.blocks = nn.ModuleList(\n",
    "            [BottleNeckBlock(input_channels + growth_rate * i, growth_rate) for i in range(n_blocks)])\n",
    "    \n",
    "    def forward(self, x):\n",
    "        featuremap_list = [x]\n",
    "        for block in self.blocks:\n",
    "            block_in = torch.concat(featuremap_list, dim=1)\n",
    "            block_out = block(block_in)\n",
    "            featuremap_list.append(block_out)\n",
    "        dense_out = torch.concat(featuremap_list, dim=1)\n",
    "        return dense_out\n",
    "\n",
    "\n",
    "class DenseNet(nn.Module):\n",
    "    def __init__(self, n_channels, n_classes, growth_rate, compression_factor):\n",
    "        super().__init__()\n",
    "        self.conv1 = nn.Sequential(\n",
    "            nn.Conv2d(n_channels, 64, kernel_size=7, stride=2, padding=3, bias=False),\n",
    "            nn.BatchNorm2d(64),\n",
    "            nn.ReLU(),\n",
    "        )\n",
    "        self.maxpool = nn.MaxPool2d(kernel_size=3, stride=2, padding=1)\n",
    "        \n",
    "        self.dense_block1 = DenseBlock(64, growth_rate, 6)\n",
    "        self.transition1 = self.make_transition(256, compression_factor)\n",
    "        self.dense_block2 = DenseBlock(128, growth_rate, 12)\n",
    "        self.transition2 = self.make_transition(512, compression_factor)\n",
    "        self.dense_block3 = DenseBlock(256, growth_rate, 24)\n",
    "        self.transition3 = self.make_transition(1024, compression_factor)\n",
    "        self.dense_block4 = DenseBlock(512, growth_rate, 16)\n",
    "        self.avgpool = nn.AdaptiveAvgPool2d((1, 1))\n",
    "        self.classifier = nn.Sequential(\n",
    "            nn.Flatten(),\n",
    "            nn.Linear(1024, n_classes)\n",
    "        )\n",
    "    \n",
    "    def make_transition(self, in_channels, compression_factor):\n",
    "        layer = nn.Sequential(\n",
    "            nn.BatchNorm2d(in_channels),\n",
    "            nn.Conv2d(in_channels, round(in_channels * compression_factor), kernel_size=1, bias=False),\n",
    "            nn.AvgPool2d(kernel_size=2, stride=2)\n",
    "        )\n",
    "        return layer\n",
    "    \n",
    "    def forward(self, x):\n",
    "        x = self.conv1(x)\n",
    "        x = self.maxpool(x)\n",
    "        x = self.dense_block1(x)\n",
    "        x = self.transition1(x)\n",
    "        x = self.dense_block2(x)\n",
    "        x = self.transition2(x)\n",
    "        x = self.dense_block3(x)\n",
    "        x = self.transition3(x)\n",
    "        x = self.dense_block4(x)\n",
    "        x = self.avgpool(x)\n",
    "        x = self.classifier(x)\n",
    "        return x"
   ],
   "id": "8f6ffb7b9ada31d4",
   "outputs": [],
   "execution_count": 2
  },
  {
   "metadata": {
    "ExecuteTime": {
     "end_time": "2024-10-13T14:23:22.258232Z",
     "start_time": "2024-10-13T14:23:22.050866Z"
    }
   },
   "cell_type": "code",
   "source": [
    "x_batch = torch.randn(1, 3, 224, 224)\n",
    "\n",
    "model = DenseNet(3, 1000, 32, 0.5)\n",
    "print(model(x_batch).shape)\n"
   ],
   "id": "f4041cd9c61fa6a0",
   "outputs": [
    {
     "name": "stdout",
     "output_type": "stream",
     "text": [
      "torch.Size([1, 1000])\n"
     ]
    }
   ],
   "execution_count": 3
  },
  {
   "metadata": {
    "ExecuteTime": {
     "end_time": "2024-10-13T14:23:22.532108Z",
     "start_time": "2024-10-13T14:23:22.269467Z"
    }
   },
   "cell_type": "code",
   "source": [
    "densenet_model = DenseNet(3, 1000, 32, 0.5)\n",
    "summary(densenet_model, input_size=(1, 3, 224, 224),\n",
    "        col_names=['input_size', 'output_size', 'num_params', 'mult_adds'], depth=3, device='cpu')"
   ],
   "id": "81c19b8e00414744",
   "outputs": [
    {
     "data": {
      "text/plain": [
       "============================================================================================================================================\n",
       "Layer (type:depth-idx)                   Input Shape               Output Shape              Param #                   Mult-Adds\n",
       "============================================================================================================================================\n",
       "DenseNet                                 [1, 3, 224, 224]          [1, 1000]                 --                        --\n",
       "├─Sequential: 1-1                        [1, 3, 224, 224]          [1, 64, 112, 112]         --                        --\n",
       "│    └─Conv2d: 2-1                       [1, 3, 224, 224]          [1, 64, 112, 112]         9,408                     118,013,952\n",
       "│    └─BatchNorm2d: 2-2                  [1, 64, 112, 112]         [1, 64, 112, 112]         128                       128\n",
       "│    └─ReLU: 2-3                         [1, 64, 112, 112]         [1, 64, 112, 112]         --                        --\n",
       "├─MaxPool2d: 1-2                         [1, 64, 112, 112]         [1, 64, 56, 56]           --                        --\n",
       "├─DenseBlock: 1-3                        [1, 64, 56, 56]           [1, 256, 56, 56]          --                        --\n",
       "│    └─ModuleList: 2-4                   --                        --                        --                        --\n",
       "│    │    └─BottleNeckBlock: 3-1         [1, 64, 56, 56]           [1, 32, 56, 56]           45,440                    141,296,000\n",
       "│    │    └─BottleNeckBlock: 3-2         [1, 96, 56, 56]           [1, 32, 56, 56]           49,600                    154,141,120\n",
       "│    │    └─BottleNeckBlock: 3-3         [1, 128, 56, 56]          [1, 32, 56, 56]           53,760                    166,986,240\n",
       "│    │    └─BottleNeckBlock: 3-4         [1, 160, 56, 56]          [1, 32, 56, 56]           57,920                    179,831,360\n",
       "│    │    └─BottleNeckBlock: 3-5         [1, 192, 56, 56]          [1, 32, 56, 56]           62,080                    192,676,480\n",
       "│    │    └─BottleNeckBlock: 3-6         [1, 224, 56, 56]          [1, 32, 56, 56]           66,240                    205,521,600\n",
       "├─Sequential: 1-4                        [1, 256, 56, 56]          [1, 128, 28, 28]          --                        --\n",
       "│    └─BatchNorm2d: 2-5                  [1, 256, 56, 56]          [1, 256, 56, 56]          512                       512\n",
       "│    └─Conv2d: 2-6                       [1, 256, 56, 56]          [1, 128, 56, 56]          32,768                    102,760,448\n",
       "│    └─AvgPool2d: 2-7                    [1, 128, 56, 56]          [1, 128, 28, 28]          --                        --\n",
       "├─DenseBlock: 1-5                        [1, 128, 28, 28]          [1, 512, 28, 28]          --                        --\n",
       "│    └─ModuleList: 2-8                   --                        --                        --                        --\n",
       "│    │    └─BottleNeckBlock: 3-7         [1, 128, 28, 28]          [1, 32, 28, 28]           53,760                    41,746,944\n",
       "│    │    └─BottleNeckBlock: 3-8         [1, 160, 28, 28]          [1, 32, 28, 28]           57,920                    44,958,272\n",
       "│    │    └─BottleNeckBlock: 3-9         [1, 192, 28, 28]          [1, 32, 28, 28]           62,080                    48,169,600\n",
       "│    │    └─BottleNeckBlock: 3-10        [1, 224, 28, 28]          [1, 32, 28, 28]           66,240                    51,380,928\n",
       "│    │    └─BottleNeckBlock: 3-11        [1, 256, 28, 28]          [1, 32, 28, 28]           70,400                    54,592,256\n",
       "│    │    └─BottleNeckBlock: 3-12        [1, 288, 28, 28]          [1, 32, 28, 28]           74,560                    57,803,584\n",
       "│    │    └─BottleNeckBlock: 3-13        [1, 320, 28, 28]          [1, 32, 28, 28]           78,720                    61,014,912\n",
       "│    │    └─BottleNeckBlock: 3-14        [1, 352, 28, 28]          [1, 32, 28, 28]           82,880                    64,226,240\n",
       "│    │    └─BottleNeckBlock: 3-15        [1, 384, 28, 28]          [1, 32, 28, 28]           87,040                    67,437,568\n",
       "│    │    └─BottleNeckBlock: 3-16        [1, 416, 28, 28]          [1, 32, 28, 28]           91,200                    70,648,896\n",
       "│    │    └─BottleNeckBlock: 3-17        [1, 448, 28, 28]          [1, 32, 28, 28]           95,360                    73,860,224\n",
       "│    │    └─BottleNeckBlock: 3-18        [1, 480, 28, 28]          [1, 32, 28, 28]           99,520                    77,071,552\n",
       "├─Sequential: 1-6                        [1, 512, 28, 28]          [1, 256, 14, 14]          --                        --\n",
       "│    └─BatchNorm2d: 2-9                  [1, 512, 28, 28]          [1, 512, 28, 28]          1,024                     1,024\n",
       "│    └─Conv2d: 2-10                      [1, 512, 28, 28]          [1, 256, 28, 28]          131,072                   102,760,448\n",
       "│    └─AvgPool2d: 2-11                   [1, 256, 28, 28]          [1, 256, 14, 14]          --                        --\n",
       "├─DenseBlock: 1-7                        [1, 256, 14, 14]          [1, 1024, 14, 14]         --                        --\n",
       "│    └─ModuleList: 2-12                  --                        --                        --                        --\n",
       "│    │    └─BottleNeckBlock: 3-19        [1, 256, 14, 14]          [1, 32, 14, 14]           70,400                    13,648,640\n",
       "│    │    └─BottleNeckBlock: 3-20        [1, 288, 14, 14]          [1, 32, 14, 14]           74,560                    14,451,520\n",
       "│    │    └─BottleNeckBlock: 3-21        [1, 320, 14, 14]          [1, 32, 14, 14]           78,720                    15,254,400\n",
       "│    │    └─BottleNeckBlock: 3-22        [1, 352, 14, 14]          [1, 32, 14, 14]           82,880                    16,057,280\n",
       "│    │    └─BottleNeckBlock: 3-23        [1, 384, 14, 14]          [1, 32, 14, 14]           87,040                    16,860,160\n",
       "│    │    └─BottleNeckBlock: 3-24        [1, 416, 14, 14]          [1, 32, 14, 14]           91,200                    17,663,040\n",
       "│    │    └─BottleNeckBlock: 3-25        [1, 448, 14, 14]          [1, 32, 14, 14]           95,360                    18,465,920\n",
       "│    │    └─BottleNeckBlock: 3-26        [1, 480, 14, 14]          [1, 32, 14, 14]           99,520                    19,268,800\n",
       "│    │    └─BottleNeckBlock: 3-27        [1, 512, 14, 14]          [1, 32, 14, 14]           103,680                   20,071,680\n",
       "│    │    └─BottleNeckBlock: 3-28        [1, 544, 14, 14]          [1, 32, 14, 14]           107,840                   20,874,560\n",
       "│    │    └─BottleNeckBlock: 3-29        [1, 576, 14, 14]          [1, 32, 14, 14]           112,000                   21,677,440\n",
       "│    │    └─BottleNeckBlock: 3-30        [1, 608, 14, 14]          [1, 32, 14, 14]           116,160                   22,480,320\n",
       "│    │    └─BottleNeckBlock: 3-31        [1, 640, 14, 14]          [1, 32, 14, 14]           120,320                   23,283,200\n",
       "│    │    └─BottleNeckBlock: 3-32        [1, 672, 14, 14]          [1, 32, 14, 14]           124,480                   24,086,080\n",
       "│    │    └─BottleNeckBlock: 3-33        [1, 704, 14, 14]          [1, 32, 14, 14]           128,640                   24,888,960\n",
       "│    │    └─BottleNeckBlock: 3-34        [1, 736, 14, 14]          [1, 32, 14, 14]           132,800                   25,691,840\n",
       "│    │    └─BottleNeckBlock: 3-35        [1, 768, 14, 14]          [1, 32, 14, 14]           136,960                   26,494,720\n",
       "│    │    └─BottleNeckBlock: 3-36        [1, 800, 14, 14]          [1, 32, 14, 14]           141,120                   27,297,600\n",
       "│    │    └─BottleNeckBlock: 3-37        [1, 832, 14, 14]          [1, 32, 14, 14]           145,280                   28,100,480\n",
       "│    │    └─BottleNeckBlock: 3-38        [1, 864, 14, 14]          [1, 32, 14, 14]           149,440                   28,903,360\n",
       "│    │    └─BottleNeckBlock: 3-39        [1, 896, 14, 14]          [1, 32, 14, 14]           153,600                   29,706,240\n",
       "│    │    └─BottleNeckBlock: 3-40        [1, 928, 14, 14]          [1, 32, 14, 14]           157,760                   30,509,120\n",
       "│    │    └─BottleNeckBlock: 3-41        [1, 960, 14, 14]          [1, 32, 14, 14]           161,920                   31,312,000\n",
       "│    │    └─BottleNeckBlock: 3-42        [1, 992, 14, 14]          [1, 32, 14, 14]           166,080                   32,114,880\n",
       "├─Sequential: 1-8                        [1, 1024, 14, 14]         [1, 512, 7, 7]            --                        --\n",
       "│    └─BatchNorm2d: 2-13                 [1, 1024, 14, 14]         [1, 1024, 14, 14]         2,048                     2,048\n",
       "│    └─Conv2d: 2-14                      [1, 1024, 14, 14]         [1, 512, 14, 14]          524,288                   102,760,448\n",
       "│    └─AvgPool2d: 2-15                   [1, 512, 14, 14]          [1, 512, 7, 7]            --                        --\n",
       "├─DenseBlock: 1-9                        [1, 512, 7, 7]            [1, 1024, 7, 7]           --                        --\n",
       "│    └─ModuleList: 2-16                  --                        --                        --                        --\n",
       "│    │    └─BottleNeckBlock: 3-43        [1, 512, 7, 7]            [1, 32, 7, 7]             103,680                   5,018,880\n",
       "│    │    └─BottleNeckBlock: 3-44        [1, 544, 7, 7]            [1, 32, 7, 7]             107,840                   5,219,648\n",
       "│    │    └─BottleNeckBlock: 3-45        [1, 576, 7, 7]            [1, 32, 7, 7]             112,000                   5,420,416\n",
       "│    │    └─BottleNeckBlock: 3-46        [1, 608, 7, 7]            [1, 32, 7, 7]             116,160                   5,621,184\n",
       "│    │    └─BottleNeckBlock: 3-47        [1, 640, 7, 7]            [1, 32, 7, 7]             120,320                   5,821,952\n",
       "│    │    └─BottleNeckBlock: 3-48        [1, 672, 7, 7]            [1, 32, 7, 7]             124,480                   6,022,720\n",
       "│    │    └─BottleNeckBlock: 3-49        [1, 704, 7, 7]            [1, 32, 7, 7]             128,640                   6,223,488\n",
       "│    │    └─BottleNeckBlock: 3-50        [1, 736, 7, 7]            [1, 32, 7, 7]             132,800                   6,424,256\n",
       "│    │    └─BottleNeckBlock: 3-51        [1, 768, 7, 7]            [1, 32, 7, 7]             136,960                   6,625,024\n",
       "│    │    └─BottleNeckBlock: 3-52        [1, 800, 7, 7]            [1, 32, 7, 7]             141,120                   6,825,792\n",
       "│    │    └─BottleNeckBlock: 3-53        [1, 832, 7, 7]            [1, 32, 7, 7]             145,280                   7,026,560\n",
       "│    │    └─BottleNeckBlock: 3-54        [1, 864, 7, 7]            [1, 32, 7, 7]             149,440                   7,227,328\n",
       "│    │    └─BottleNeckBlock: 3-55        [1, 896, 7, 7]            [1, 32, 7, 7]             153,600                   7,428,096\n",
       "│    │    └─BottleNeckBlock: 3-56        [1, 928, 7, 7]            [1, 32, 7, 7]             157,760                   7,628,864\n",
       "│    │    └─BottleNeckBlock: 3-57        [1, 960, 7, 7]            [1, 32, 7, 7]             161,920                   7,829,632\n",
       "│    │    └─BottleNeckBlock: 3-58        [1, 992, 7, 7]            [1, 32, 7, 7]             166,080                   8,030,400\n",
       "├─AdaptiveAvgPool2d: 1-10                [1, 1024, 7, 7]           [1, 1024, 1, 1]           --                        --\n",
       "├─Sequential: 1-11                       [1, 1024, 1, 1]           [1, 1000]                 --                        --\n",
       "│    └─Flatten: 2-17                     [1, 1024, 1, 1]           [1, 1024]                 --                        --\n",
       "│    └─Linear: 2-18                      [1, 1024]                 [1, 1000]                 1,025,000                 1,025,000\n",
       "============================================================================================================================================\n",
       "Total params: 7,976,808\n",
       "Trainable params: 7,976,808\n",
       "Non-trainable params: 0\n",
       "Total mult-adds (Units.GIGABYTES): 2.83\n",
       "============================================================================================================================================\n",
       "Input size (MB): 0.60\n",
       "Forward/backward pass size (MB): 180.14\n",
       "Params size (MB): 31.91\n",
       "Estimated Total Size (MB): 212.65\n",
       "============================================================================================================================================"
      ]
     },
     "execution_count": 4,
     "metadata": {},
     "output_type": "execute_result"
    }
   ],
   "execution_count": 4
  },
  {
   "metadata": {
    "ExecuteTime": {
     "end_time": "2024-10-13T14:23:22.803881Z",
     "start_time": "2024-10-13T14:23:22.543284Z"
    }
   },
   "cell_type": "code",
   "source": [
    "densenet_torch_model = models.densenet121()\n",
    "summary(densenet_torch_model, input_size=(1, 3, 224, 224),\n",
    "        col_names=['input_size', 'output_size', 'num_params', 'mult_adds'], depth=3, device='cpu')"
   ],
   "id": "db1cb73d8c7629f1",
   "outputs": [
    {
     "data": {
      "text/plain": [
       "============================================================================================================================================\n",
       "Layer (type:depth-idx)                   Input Shape               Output Shape              Param #                   Mult-Adds\n",
       "============================================================================================================================================\n",
       "DenseNet                                 [1, 3, 224, 224]          [1, 1000]                 --                        --\n",
       "├─Sequential: 1-1                        [1, 3, 224, 224]          [1, 1024, 7, 7]           --                        --\n",
       "│    └─Conv2d: 2-1                       [1, 3, 224, 224]          [1, 64, 112, 112]         9,408                     118,013,952\n",
       "│    └─BatchNorm2d: 2-2                  [1, 64, 112, 112]         [1, 64, 112, 112]         128                       128\n",
       "│    └─ReLU: 2-3                         [1, 64, 112, 112]         [1, 64, 112, 112]         --                        --\n",
       "│    └─MaxPool2d: 2-4                    [1, 64, 112, 112]         [1, 64, 56, 56]           --                        --\n",
       "│    └─_DenseBlock: 2-5                  [1, 64, 56, 56]           [1, 256, 56, 56]          --                        --\n",
       "│    │    └─_DenseLayer: 3-1             [1, 64, 56, 56]           [1, 32, 56, 56]           45,440                    141,296,000\n",
       "│    │    └─_DenseLayer: 3-2             [1, 64, 56, 56]           [1, 32, 56, 56]           49,600                    154,141,120\n",
       "│    │    └─_DenseLayer: 3-3             [1, 64, 56, 56]           [1, 32, 56, 56]           53,760                    166,986,240\n",
       "│    │    └─_DenseLayer: 3-4             [1, 64, 56, 56]           [1, 32, 56, 56]           57,920                    179,831,360\n",
       "│    │    └─_DenseLayer: 3-5             [1, 64, 56, 56]           [1, 32, 56, 56]           62,080                    192,676,480\n",
       "│    │    └─_DenseLayer: 3-6             [1, 64, 56, 56]           [1, 32, 56, 56]           66,240                    205,521,600\n",
       "│    └─_Transition: 2-6                  [1, 256, 56, 56]          [1, 128, 28, 28]          --                        --\n",
       "│    │    └─BatchNorm2d: 3-7             [1, 256, 56, 56]          [1, 256, 56, 56]          512                       512\n",
       "│    │    └─ReLU: 3-8                    [1, 256, 56, 56]          [1, 256, 56, 56]          --                        --\n",
       "│    │    └─Conv2d: 3-9                  [1, 256, 56, 56]          [1, 128, 56, 56]          32,768                    102,760,448\n",
       "│    │    └─AvgPool2d: 3-10              [1, 128, 56, 56]          [1, 128, 28, 28]          --                        --\n",
       "│    └─_DenseBlock: 2-7                  [1, 128, 28, 28]          [1, 512, 28, 28]          --                        --\n",
       "│    │    └─_DenseLayer: 3-11            [1, 128, 28, 28]          [1, 32, 28, 28]           53,760                    41,746,944\n",
       "│    │    └─_DenseLayer: 3-12            [1, 128, 28, 28]          [1, 32, 28, 28]           57,920                    44,958,272\n",
       "│    │    └─_DenseLayer: 3-13            [1, 128, 28, 28]          [1, 32, 28, 28]           62,080                    48,169,600\n",
       "│    │    └─_DenseLayer: 3-14            [1, 128, 28, 28]          [1, 32, 28, 28]           66,240                    51,380,928\n",
       "│    │    └─_DenseLayer: 3-15            [1, 128, 28, 28]          [1, 32, 28, 28]           70,400                    54,592,256\n",
       "│    │    └─_DenseLayer: 3-16            [1, 128, 28, 28]          [1, 32, 28, 28]           74,560                    57,803,584\n",
       "│    │    └─_DenseLayer: 3-17            [1, 128, 28, 28]          [1, 32, 28, 28]           78,720                    61,014,912\n",
       "│    │    └─_DenseLayer: 3-18            [1, 128, 28, 28]          [1, 32, 28, 28]           82,880                    64,226,240\n",
       "│    │    └─_DenseLayer: 3-19            [1, 128, 28, 28]          [1, 32, 28, 28]           87,040                    67,437,568\n",
       "│    │    └─_DenseLayer: 3-20            [1, 128, 28, 28]          [1, 32, 28, 28]           91,200                    70,648,896\n",
       "│    │    └─_DenseLayer: 3-21            [1, 128, 28, 28]          [1, 32, 28, 28]           95,360                    73,860,224\n",
       "│    │    └─_DenseLayer: 3-22            [1, 128, 28, 28]          [1, 32, 28, 28]           99,520                    77,071,552\n",
       "│    └─_Transition: 2-8                  [1, 512, 28, 28]          [1, 256, 14, 14]          --                        --\n",
       "│    │    └─BatchNorm2d: 3-23            [1, 512, 28, 28]          [1, 512, 28, 28]          1,024                     1,024\n",
       "│    │    └─ReLU: 3-24                   [1, 512, 28, 28]          [1, 512, 28, 28]          --                        --\n",
       "│    │    └─Conv2d: 3-25                 [1, 512, 28, 28]          [1, 256, 28, 28]          131,072                   102,760,448\n",
       "│    │    └─AvgPool2d: 3-26              [1, 256, 28, 28]          [1, 256, 14, 14]          --                        --\n",
       "│    └─_DenseBlock: 2-9                  [1, 256, 14, 14]          [1, 1024, 14, 14]         --                        --\n",
       "│    │    └─_DenseLayer: 3-27            [1, 256, 14, 14]          [1, 32, 14, 14]           70,400                    13,648,640\n",
       "│    │    └─_DenseLayer: 3-28            [1, 256, 14, 14]          [1, 32, 14, 14]           74,560                    14,451,520\n",
       "│    │    └─_DenseLayer: 3-29            [1, 256, 14, 14]          [1, 32, 14, 14]           78,720                    15,254,400\n",
       "│    │    └─_DenseLayer: 3-30            [1, 256, 14, 14]          [1, 32, 14, 14]           82,880                    16,057,280\n",
       "│    │    └─_DenseLayer: 3-31            [1, 256, 14, 14]          [1, 32, 14, 14]           87,040                    16,860,160\n",
       "│    │    └─_DenseLayer: 3-32            [1, 256, 14, 14]          [1, 32, 14, 14]           91,200                    17,663,040\n",
       "│    │    └─_DenseLayer: 3-33            [1, 256, 14, 14]          [1, 32, 14, 14]           95,360                    18,465,920\n",
       "│    │    └─_DenseLayer: 3-34            [1, 256, 14, 14]          [1, 32, 14, 14]           99,520                    19,268,800\n",
       "│    │    └─_DenseLayer: 3-35            [1, 256, 14, 14]          [1, 32, 14, 14]           103,680                   20,071,680\n",
       "│    │    └─_DenseLayer: 3-36            [1, 256, 14, 14]          [1, 32, 14, 14]           107,840                   20,874,560\n",
       "│    │    └─_DenseLayer: 3-37            [1, 256, 14, 14]          [1, 32, 14, 14]           112,000                   21,677,440\n",
       "│    │    └─_DenseLayer: 3-38            [1, 256, 14, 14]          [1, 32, 14, 14]           116,160                   22,480,320\n",
       "│    │    └─_DenseLayer: 3-39            [1, 256, 14, 14]          [1, 32, 14, 14]           120,320                   23,283,200\n",
       "│    │    └─_DenseLayer: 3-40            [1, 256, 14, 14]          [1, 32, 14, 14]           124,480                   24,086,080\n",
       "│    │    └─_DenseLayer: 3-41            [1, 256, 14, 14]          [1, 32, 14, 14]           128,640                   24,888,960\n",
       "│    │    └─_DenseLayer: 3-42            [1, 256, 14, 14]          [1, 32, 14, 14]           132,800                   25,691,840\n",
       "│    │    └─_DenseLayer: 3-43            [1, 256, 14, 14]          [1, 32, 14, 14]           136,960                   26,494,720\n",
       "│    │    └─_DenseLayer: 3-44            [1, 256, 14, 14]          [1, 32, 14, 14]           141,120                   27,297,600\n",
       "│    │    └─_DenseLayer: 3-45            [1, 256, 14, 14]          [1, 32, 14, 14]           145,280                   28,100,480\n",
       "│    │    └─_DenseLayer: 3-46            [1, 256, 14, 14]          [1, 32, 14, 14]           149,440                   28,903,360\n",
       "│    │    └─_DenseLayer: 3-47            [1, 256, 14, 14]          [1, 32, 14, 14]           153,600                   29,706,240\n",
       "│    │    └─_DenseLayer: 3-48            [1, 256, 14, 14]          [1, 32, 14, 14]           157,760                   30,509,120\n",
       "│    │    └─_DenseLayer: 3-49            [1, 256, 14, 14]          [1, 32, 14, 14]           161,920                   31,312,000\n",
       "│    │    └─_DenseLayer: 3-50            [1, 256, 14, 14]          [1, 32, 14, 14]           166,080                   32,114,880\n",
       "│    └─_Transition: 2-10                 [1, 1024, 14, 14]         [1, 512, 7, 7]            --                        --\n",
       "│    │    └─BatchNorm2d: 3-51            [1, 1024, 14, 14]         [1, 1024, 14, 14]         2,048                     2,048\n",
       "│    │    └─ReLU: 3-52                   [1, 1024, 14, 14]         [1, 1024, 14, 14]         --                        --\n",
       "│    │    └─Conv2d: 3-53                 [1, 1024, 14, 14]         [1, 512, 14, 14]          524,288                   102,760,448\n",
       "│    │    └─AvgPool2d: 3-54              [1, 512, 14, 14]          [1, 512, 7, 7]            --                        --\n",
       "│    └─_DenseBlock: 2-11                 [1, 512, 7, 7]            [1, 1024, 7, 7]           --                        --\n",
       "│    │    └─_DenseLayer: 3-55            [1, 512, 7, 7]            [1, 32, 7, 7]             103,680                   5,018,880\n",
       "│    │    └─_DenseLayer: 3-56            [1, 512, 7, 7]            [1, 32, 7, 7]             107,840                   5,219,648\n",
       "│    │    └─_DenseLayer: 3-57            [1, 512, 7, 7]            [1, 32, 7, 7]             112,000                   5,420,416\n",
       "│    │    └─_DenseLayer: 3-58            [1, 512, 7, 7]            [1, 32, 7, 7]             116,160                   5,621,184\n",
       "│    │    └─_DenseLayer: 3-59            [1, 512, 7, 7]            [1, 32, 7, 7]             120,320                   5,821,952\n",
       "│    │    └─_DenseLayer: 3-60            [1, 512, 7, 7]            [1, 32, 7, 7]             124,480                   6,022,720\n",
       "│    │    └─_DenseLayer: 3-61            [1, 512, 7, 7]            [1, 32, 7, 7]             128,640                   6,223,488\n",
       "│    │    └─_DenseLayer: 3-62            [1, 512, 7, 7]            [1, 32, 7, 7]             132,800                   6,424,256\n",
       "│    │    └─_DenseLayer: 3-63            [1, 512, 7, 7]            [1, 32, 7, 7]             136,960                   6,625,024\n",
       "│    │    └─_DenseLayer: 3-64            [1, 512, 7, 7]            [1, 32, 7, 7]             141,120                   6,825,792\n",
       "│    │    └─_DenseLayer: 3-65            [1, 512, 7, 7]            [1, 32, 7, 7]             145,280                   7,026,560\n",
       "│    │    └─_DenseLayer: 3-66            [1, 512, 7, 7]            [1, 32, 7, 7]             149,440                   7,227,328\n",
       "│    │    └─_DenseLayer: 3-67            [1, 512, 7, 7]            [1, 32, 7, 7]             153,600                   7,428,096\n",
       "│    │    └─_DenseLayer: 3-68            [1, 512, 7, 7]            [1, 32, 7, 7]             157,760                   7,628,864\n",
       "│    │    └─_DenseLayer: 3-69            [1, 512, 7, 7]            [1, 32, 7, 7]             161,920                   7,829,632\n",
       "│    │    └─_DenseLayer: 3-70            [1, 512, 7, 7]            [1, 32, 7, 7]             166,080                   8,030,400\n",
       "│    └─BatchNorm2d: 2-12                 [1, 1024, 7, 7]           [1, 1024, 7, 7]           2,048                     2,048\n",
       "├─Linear: 1-2                            [1, 1024]                 [1, 1000]                 1,025,000                 1,025,000\n",
       "============================================================================================================================================\n",
       "Total params: 7,978,856\n",
       "Trainable params: 7,978,856\n",
       "Non-trainable params: 0\n",
       "Total mult-adds (Units.GIGABYTES): 2.83\n",
       "============================================================================================================================================\n",
       "Input size (MB): 0.60\n",
       "Forward/backward pass size (MB): 180.54\n",
       "Params size (MB): 31.92\n",
       "Estimated Total Size (MB): 213.06\n",
       "============================================================================================================================================"
      ]
     },
     "execution_count": 5,
     "metadata": {},
     "output_type": "execute_result"
    }
   ],
   "execution_count": 5
  },
  {
   "metadata": {},
   "cell_type": "markdown",
   "source": "## Training",
   "id": "e2f0ce17f284d70c"
  },
  {
   "metadata": {
    "ExecuteTime": {
     "end_time": "2024-10-13T16:11:36.572435Z",
     "start_time": "2024-10-13T16:11:36.337513Z"
    }
   },
   "cell_type": "code",
   "source": [
    "from pathlib import Path\n",
    "\n",
    "TRAIN_RATIO = 0.8\n",
    "data_dir = Path('./data/')\n",
    "\n",
    "transform = transforms.Compose([\n",
    "    transforms.Resize(224),\n",
    "    transforms.ToTensor(),\n",
    "])\n",
    "\n",
    "train_ds = datasets.CIFAR100(data_dir, train=True, download=True, transform=transform)\n",
    "train_ds, val_ds = random_split(train_ds, (TRAIN_RATIO, 1 - TRAIN_RATIO))\n",
    "val_ds.transform = transform\n",
    "test_ds = datasets.CIFAR100(data_dir, train=False, download=True, transform=transform)"
   ],
   "id": "42d21d784414347d",
   "outputs": [
    {
     "ename": "NameError",
     "evalue": "name 'transforms' is not defined",
     "output_type": "error",
     "traceback": [
      "\u001B[1;31m---------------------------------------------------------------------------\u001B[0m",
      "\u001B[1;31mNameError\u001B[0m                                 Traceback (most recent call last)",
      "Cell \u001B[1;32mIn[1], line 6\u001B[0m\n\u001B[0;32m      3\u001B[0m TRAIN_RATIO \u001B[38;5;241m=\u001B[39m \u001B[38;5;241m0.8\u001B[39m\n\u001B[0;32m      4\u001B[0m data_dir \u001B[38;5;241m=\u001B[39m Path(\u001B[38;5;124m'\u001B[39m\u001B[38;5;124m./data/\u001B[39m\u001B[38;5;124m'\u001B[39m)\n\u001B[1;32m----> 6\u001B[0m transform \u001B[38;5;241m=\u001B[39m \u001B[43mtransforms\u001B[49m\u001B[38;5;241m.\u001B[39mCompose([\n\u001B[0;32m      7\u001B[0m     transforms\u001B[38;5;241m.\u001B[39mResize(\u001B[38;5;241m224\u001B[39m),\n\u001B[0;32m      8\u001B[0m     transforms\u001B[38;5;241m.\u001B[39mToTensor(),\n\u001B[0;32m      9\u001B[0m ])\n\u001B[0;32m     11\u001B[0m train_ds \u001B[38;5;241m=\u001B[39m datasets\u001B[38;5;241m.\u001B[39mCIFAR100(data_dir, train\u001B[38;5;241m=\u001B[39m\u001B[38;5;28;01mTrue\u001B[39;00m, download\u001B[38;5;241m=\u001B[39m\u001B[38;5;28;01mTrue\u001B[39;00m, transform\u001B[38;5;241m=\u001B[39mtransform)\n\u001B[0;32m     12\u001B[0m train_ds, val_ds \u001B[38;5;241m=\u001B[39m random_split(train_ds, (TRAIN_RATIO, \u001B[38;5;241m1\u001B[39m \u001B[38;5;241m-\u001B[39m TRAIN_RATIO))\n",
      "\u001B[1;31mNameError\u001B[0m: name 'transforms' is not defined"
     ]
    }
   ],
   "execution_count": 1
  },
  {
   "metadata": {
    "ExecuteTime": {
     "end_time": "2024-10-13T16:05:23.180122Z",
     "start_time": "2024-10-13T14:23:24.532499Z"
    }
   },
   "cell_type": "code",
   "source": [
    "import wandb\n",
    "from src.engine import *\n",
    "\n",
    "config = dict(batch_size=64, lr=5e-4, epochs=20, dataset='CIFAR100')\n",
    "with wandb.init(project='pytorch-study', name='DenseNet', config=config) as run:\n",
    "    w_config = run.config\n",
    "    train_dl = DataLoader(train_ds, batch_size=w_config.batch_size, shuffle=True)\n",
    "    val_dl = DataLoader(val_ds, batch_size=w_config.batch_size, shuffle=True)\n",
    "    \n",
    "    n_classes = len(train_ds.dataset.classes)\n",
    "    densenet_model = DenseNet(3, n_classes, 32, 0.5).to(DEVICE)\n",
    "    \n",
    "    criterion = nn.CrossEntropyLoss()\n",
    "    optimizer = optim.Adam(densenet_model.parameters(), lr=w_config.lr)\n",
    "    \n",
    "    loss_history, acc_history = train(densenet_model, train_dl, val_dl, criterion, optimizer, w_config.epochs, DEVICE, run) "
   ],
   "id": "7feb6758495dd8a0",
   "outputs": [
    {
     "name": "stderr",
     "output_type": "stream",
     "text": [
      "Epoch=20: 100%|██████████| 20/20 [1:41:46<00:00, 305.32s/it, train_loss=0.318, train_acc=89.43%, val_loss=2.413, val_acc=55.56%]\n"
     ]
    }
   ],
   "execution_count": 7
  }
 ],
 "metadata": {
  "kernelspec": {
   "display_name": "Python 3",
   "language": "python",
   "name": "python3"
  },
  "language_info": {
   "codemirror_mode": {
    "name": "ipython",
    "version": 2
   },
   "file_extension": ".py",
   "mimetype": "text/x-python",
   "name": "python",
   "nbconvert_exporter": "python",
   "pygments_lexer": "ipython2",
   "version": "2.7.6"
  }
 },
 "nbformat": 4,
 "nbformat_minor": 5
}
