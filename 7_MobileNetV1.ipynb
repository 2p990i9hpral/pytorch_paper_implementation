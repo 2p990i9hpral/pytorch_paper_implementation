{
 "cells": [
  {
   "cell_type": "code",
   "id": "initial_id",
   "metadata": {
    "collapsed": true,
    "ExecuteTime": {
     "end_time": "2024-10-13T06:16:29.724893Z",
     "start_time": "2024-10-13T06:16:26.424490Z"
    }
   },
   "source": [
    "import torch\n",
    "from torch import nn, optim\n",
    "from torch.utils.data import random_split, DataLoader\n",
    "from torchinfo import summary\n",
    "from torchvision import datasets, transforms, models\n",
    "\n",
    "DEVICE = \"cuda\" if torch.cuda.is_available() else \"cpu\"\n",
    "print(DEVICE)"
   ],
   "outputs": [
    {
     "name": "stdout",
     "output_type": "stream",
     "text": [
      "cuda\n"
     ]
    }
   ],
   "execution_count": 1
  },
  {
   "metadata": {},
   "cell_type": "markdown",
   "source": "## Implementatation",
   "id": "6728b1ca1cd1e4dc"
  },
  {
   "metadata": {
    "ExecuteTime": {
     "end_time": "2024-10-13T06:16:29.858361Z",
     "start_time": "2024-10-13T06:16:29.733316Z"
    }
   },
   "cell_type": "code",
   "source": [
    "class GroupedConvolution(nn.Module):\n",
    "    def __init__(self, in_channels, out_channels, n_groups, stride):\n",
    "        super().__init__()\n",
    "        self.group_channels = in_channels // n_groups\n",
    "        self.grouped_conv_paths = nn.ModuleList([\n",
    "            nn.Conv2d(self.group_channels, out_channels//n_groups, kernel_size=3, stride=stride, padding=1, bias=False) for _ in range(n_groups)\n",
    "        ])\n",
    "    \n",
    "    def forward(self, x):\n",
    "        x = torch.concat([\n",
    "            path(x[:, self.group_channels * i:self.group_channels * (i + 1), ...]) for i, path in\n",
    "            enumerate(self.grouped_conv_paths)], dim=1)\n",
    "        return x\n",
    "\n",
    "x_batch = torch.randn(32, 64, 52, 52)\n",
    "print(GroupedConvolution(64, 128, 32, 1)(x_batch).shape)\n",
    "print(GroupedConvolution(64, 128, 32, 2)(x_batch).shape)"
   ],
   "id": "cd51ce7ac204b1dd",
   "outputs": [
    {
     "name": "stdout",
     "output_type": "stream",
     "text": [
      "torch.Size([32, 128, 52, 52])\n",
      "torch.Size([32, 128, 26, 26])\n"
     ]
    }
   ],
   "execution_count": 2
  },
  {
   "metadata": {
    "ExecuteTime": {
     "end_time": "2024-10-13T06:16:30.258766Z",
     "start_time": "2024-10-13T06:16:30.115757Z"
    }
   },
   "cell_type": "code",
   "source": [
    "class DepthwiseSeparableConvolution(nn.Module):\n",
    "    def __init__(self, in_channels, out_channels, stride):\n",
    "        super().__init__()\n",
    "        self.depthwise_conv = nn.Sequential(\n",
    "            # GroupedConvolution(in_channels, in_channels, in_channels, stride),\n",
    "            nn.Conv2d(in_channels, in_channels, kernel_size=3, stride=stride, padding=1, bias=False, groups=in_channels),\n",
    "            nn.BatchNorm2d(in_channels),\n",
    "            nn.ReLU(),\n",
    "        )\n",
    "        self.seeparable_conv = nn.Sequential(\n",
    "            nn.Conv2d(in_channels, out_channels, kernel_size=1, bias=False),\n",
    "            nn.BatchNorm2d(out_channels),\n",
    "            nn.ReLU(),\n",
    "        )\n",
    "    def forward(self, x):\n",
    "        x = self.depthwise_conv(x)\n",
    "        x = self.seeparable_conv(x)\n",
    "        return x\n",
    "\n",
    "x_batch = torch.randn(32, 64, 52, 52)\n",
    "print(DepthwiseSeparableConvolution(64, 128, 1)(x_batch).shape)\n",
    "print(DepthwiseSeparableConvolution(64, 128, 2)(x_batch).shape)"
   ],
   "id": "63d7939dd7eefc63",
   "outputs": [
    {
     "name": "stdout",
     "output_type": "stream",
     "text": [
      "torch.Size([32, 128, 52, 52])\n",
      "torch.Size([32, 128, 26, 26])\n"
     ]
    }
   ],
   "execution_count": 3
  },
  {
   "metadata": {
    "ExecuteTime": {
     "end_time": "2024-10-13T06:16:30.293692Z",
     "start_time": "2024-10-13T06:16:30.286888Z"
    }
   },
   "cell_type": "code",
   "source": [
    "class MobileNetV1(nn.Module):\n",
    "    def __init__(self, n_channels, n_classes):\n",
    "        super().__init__()\n",
    "        self.conv1 = nn.Sequential(\n",
    "            nn.Conv2d(n_channels, 32, kernel_size=3, stride=2, padding=1, bias=False),\n",
    "            nn.BatchNorm2d(32),\n",
    "            nn.ReLU()\n",
    "        )\n",
    "        self.conv2 = DepthwiseSeparableConvolution(32, 64, 1)\n",
    "        self.conv3 = DepthwiseSeparableConvolution(64, 128, 2)\n",
    "        self.conv4 = DepthwiseSeparableConvolution(128, 128, 1)\n",
    "        self.conv5 = DepthwiseSeparableConvolution(128, 256, 2)\n",
    "        self.conv6 = DepthwiseSeparableConvolution(256, 256, 1)\n",
    "        self.conv7 = DepthwiseSeparableConvolution(256, 512, 2)\n",
    "        self.conv8 = nn.Sequential(*[DepthwiseSeparableConvolution(512, 512, 1) for _ in range(5)])\n",
    "        self.conv9 = DepthwiseSeparableConvolution(512, 1024, 2)\n",
    "        self.conv10 = DepthwiseSeparableConvolution(1024, 1024, 1)\n",
    "        self.avgpool = nn.AdaptiveAvgPool2d(1)\n",
    "        self.classifier = nn.Sequential(\n",
    "            nn.Flatten(),\n",
    "            nn.Linear(1024, n_classes),\n",
    "        )\n",
    "    def forward(self, x):\n",
    "        x = self.conv1(x)\n",
    "        x = self.conv2(x)\n",
    "        x = self.conv3(x)\n",
    "        x = self.conv4(x)\n",
    "        x = self.conv5(x)\n",
    "        x = self.conv6(x)\n",
    "        x = self.conv7(x)\n",
    "        x = self.conv8(x)\n",
    "        x = self.conv9(x)\n",
    "        x = self.conv10(x)\n",
    "        x = self.avgpool(x)\n",
    "        x = self.classifier(x)\n",
    "        return x"
   ],
   "id": "8f6ffb7b9ada31d4",
   "outputs": [],
   "execution_count": 4
  },
  {
   "metadata": {
    "ExecuteTime": {
     "end_time": "2024-10-13T06:16:30.483832Z",
     "start_time": "2024-10-13T06:16:30.318695Z"
    }
   },
   "cell_type": "code",
   "source": [
    "mobilenet_v1_model = MobileNetV1(3, 1000)\n",
    "summary(mobilenet_v1_model, input_size=(1, 3, 224, 224), col_names=['input_size', 'output_size', 'num_params', 'mult_adds'], device='cpu', depth=1)"
   ],
   "id": "81c19b8e00414744",
   "outputs": [
    {
     "data": {
      "text/plain": [
       "======================================================================================================================================================\n",
       "Layer (type:depth-idx)                             Input Shape               Output Shape              Param #                   Mult-Adds\n",
       "======================================================================================================================================================\n",
       "MobileNetV1                                        [1, 3, 224, 224]          [1, 1000]                 --                        --\n",
       "├─Sequential: 1-1                                  [1, 3, 224, 224]          [1, 32, 112, 112]         928                       10,838,080\n",
       "├─DepthwiseSeparableConvolution: 1-2               [1, 32, 112, 112]         [1, 64, 112, 112]         2,528                     29,302,976\n",
       "├─DepthwiseSeparableConvolution: 1-3               [1, 64, 112, 112]         [1, 128, 56, 56]          9,152                     27,496,832\n",
       "├─DepthwiseSeparableConvolution: 1-4               [1, 128, 56, 56]          [1, 128, 56, 56]          18,048                    54,993,408\n",
       "├─DepthwiseSeparableConvolution: 1-5               [1, 128, 56, 56]          [1, 256, 28, 28]          34,688                    26,594,048\n",
       "├─DepthwiseSeparableConvolution: 1-6               [1, 256, 28, 28]          [1, 256, 28, 28]          68,864                    53,187,584\n",
       "├─DepthwiseSeparableConvolution: 1-7               [1, 256, 28, 28]          [1, 512, 14, 14]          134,912                   26,143,232\n",
       "├─Sequential: 1-8                                  [1, 512, 14, 14]          [1, 512, 14, 14]          1,344,000                 261,427,200\n",
       "├─DepthwiseSeparableConvolution: 1-9               [1, 512, 14, 14]          [1, 1024, 7, 7]           531,968                   25,918,976\n",
       "├─DepthwiseSeparableConvolution: 1-10              [1, 1024, 7, 7]           [1, 1024, 7, 7]           1,061,888                 51,835,904\n",
       "├─AdaptiveAvgPool2d: 1-11                          [1, 1024, 7, 7]           [1, 1024, 1, 1]           --                        --\n",
       "├─Sequential: 1-12                                 [1, 1024, 1, 1]           [1, 1000]                 1,025,000                 1,025,000\n",
       "======================================================================================================================================================\n",
       "Total params: 4,231,976\n",
       "Trainable params: 4,231,976\n",
       "Non-trainable params: 0\n",
       "Total mult-adds (Units.MEGABYTES): 568.76\n",
       "======================================================================================================================================================\n",
       "Input size (MB): 0.60\n",
       "Forward/backward pass size (MB): 80.69\n",
       "Params size (MB): 16.93\n",
       "Estimated Total Size (MB): 98.22\n",
       "======================================================================================================================================================"
      ]
     },
     "execution_count": 5,
     "metadata": {},
     "output_type": "execute_result"
    }
   ],
   "execution_count": 5
  },
  {
   "metadata": {},
   "cell_type": "markdown",
   "source": "## Training",
   "id": "e2f0ce17f284d70c"
  },
  {
   "metadata": {
    "ExecuteTime": {
     "end_time": "2024-10-13T06:16:31.935282Z",
     "start_time": "2024-10-13T06:16:30.565794Z"
    }
   },
   "cell_type": "code",
   "source": [
    "from pathlib import Path\n",
    "\n",
    "TRAIN_RATIO = 0.8\n",
    "data_dir = Path('./data/')\n",
    "\n",
    "transform = transforms.Compose([\n",
    "    transforms.Resize(224),\n",
    "    transforms.ToTensor(),\n",
    "])\n",
    "\n",
    "train_ds = datasets.CIFAR100(data_dir, train=True, download=True, transform=transform)\n",
    "train_ds, val_ds = random_split(train_ds, (TRAIN_RATIO, 1 - TRAIN_RATIO))\n",
    "val_ds.transform = transform\n",
    "test_ds = datasets.CIFAR100(data_dir, train=False, download=True, transform=transform)"
   ],
   "id": "42d21d784414347d",
   "outputs": [
    {
     "name": "stdout",
     "output_type": "stream",
     "text": [
      "Files already downloaded and verified\n",
      "Files already downloaded and verified\n"
     ]
    }
   ],
   "execution_count": 6
  },
  {
   "metadata": {
    "ExecuteTime": {
     "end_time": "2024-10-13T07:45:00.117058Z",
     "start_time": "2024-10-13T07:03:09.718716Z"
    }
   },
   "cell_type": "code",
   "source": [
    "import wandb\n",
    "from src.engine import *\n",
    "\n",
    "config = dict(batch_size=128, lr=5e-4, epochs=20, dataset='CIFAR100')\n",
    "with wandb.init(project='pytorch-study', name='MobileNetV1', config=config) as run:\n",
    "    w_config = run.config\n",
    "    train_dl = DataLoader(train_ds, batch_size=w_config.batch_size, shuffle=True)\n",
    "    val_dl = DataLoader(val_ds, batch_size=w_config.batch_size, shuffle=True)\n",
    "    \n",
    "    n_classes = len(train_ds.dataset.classes)\n",
    "    mobilenet_v1_model = MobileNetV1(3, n_classes).to(DEVICE)\n",
    "    \n",
    "    criterion = nn.CrossEntropyLoss()\n",
    "    optimizer = optim.Adam(mobilenet_v1_model.parameters(), lr=w_config.lr)\n",
    "    \n",
    "    loss_history, acc_history = train(mobilenet_v1_model, train_dl, val_dl, criterion, optimizer, w_config.epochs, DEVICE, run) "
   ],
   "id": "7feb6758495dd8a0",
   "outputs": [
    {
     "name": "stderr",
     "output_type": "stream",
     "text": [
      "Epoch=20: 100%|██████████| 20/20 [41:45<00:00, 125.27s/it, train_loss=0.141, train_acc=95.87%, val_loss=2.838, val_acc=47.68%]\n"
     ]
    }
   ],
   "execution_count": 9
  }
 ],
 "metadata": {
  "kernelspec": {
   "display_name": "Python 3",
   "language": "python",
   "name": "python3"
  },
  "language_info": {
   "codemirror_mode": {
    "name": "ipython",
    "version": 2
   },
   "file_extension": ".py",
   "mimetype": "text/x-python",
   "name": "python",
   "nbconvert_exporter": "python",
   "pygments_lexer": "ipython2",
   "version": "2.7.6"
  }
 },
 "nbformat": 4,
 "nbformat_minor": 5
}
