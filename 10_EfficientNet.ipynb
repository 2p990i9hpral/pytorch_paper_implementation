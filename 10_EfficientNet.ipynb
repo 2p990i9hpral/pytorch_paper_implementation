{
 "cells": [
  {
   "cell_type": "code",
   "id": "initial_id",
   "metadata": {
    "collapsed": true,
    "ExecuteTime": {
     "end_time": "2024-10-13T07:58:04.456217Z",
     "start_time": "2024-10-13T07:58:01.790771Z"
    }
   },
   "source": [
    "import torch\n",
    "from sympy import shape\n",
    "from torch import nn, optim\n",
    "from torch.utils.data import random_split, DataLoader\n",
    "from torchinfo import summary\n",
    "from torchvision import datasets, transforms, models\n",
    "\n",
    "DEVICE = \"cuda\" if torch.cuda.is_available() else \"cpu\"\n",
    "print(DEVICE)"
   ],
   "outputs": [
    {
     "name": "stdout",
     "output_type": "stream",
     "text": [
      "cuda\n"
     ]
    }
   ],
   "execution_count": 1
  },
  {
   "metadata": {},
   "cell_type": "markdown",
   "source": "## Implementatation",
   "id": "6728b1ca1cd1e4dc"
  },
  {
   "metadata": {
    "ExecuteTime": {
     "end_time": "2024-10-13T07:58:04.471735Z",
     "start_time": "2024-10-13T07:58:04.462215Z"
    }
   },
   "cell_type": "code",
   "source": [
    "class SEBlock(nn.Module):\n",
    "    def __init__(self, channels, squeeze_channels):\n",
    "        super().__init__()\n",
    "        self.gap = nn.AdaptiveAvgPool2d(1)\n",
    "        self.linear1 = nn.Linear(channels, squeeze_channels)\n",
    "        self.relu = nn.SiLU()\n",
    "        self.linear2 = nn.Linear(squeeze_channels, channels)\n",
    "        self.sigmoid = nn.Sigmoid()\n",
    "    \n",
    "    def forward(self, x):\n",
    "        se = self.gap(x)\n",
    "        se = se.flatten(start_dim=1)\n",
    "        se = self.linear1(se)\n",
    "        se = self.relu(se)\n",
    "        se = self.linear2(se)\n",
    "        se = self.sigmoid(se)\n",
    "        se = se[..., None, None]\n",
    "        x = x * se\n",
    "        return x\n",
    "\n",
    "\n",
    "class GroupedConvolution(nn.Module):\n",
    "    def __init__(self, in_channels, out_channels, n_groups, stride):\n",
    "        super().__init__()\n",
    "        self.group_channels = in_channels // n_groups\n",
    "        self.grouped_conv_paths = nn.ModuleList([\n",
    "            nn.Conv2d(self.group_channels, out_channels // n_groups, kernel_size=3, stride=stride, padding=1,\n",
    "                      bias=False) for _ in range(n_groups)\n",
    "        ])\n",
    "    \n",
    "    def forward(self, x):\n",
    "        x = torch.concat([\n",
    "            path(x[:, self.group_channels * i:self.group_channels * (i + 1), ...]) for i, path in\n",
    "            enumerate(self.grouped_conv_paths)], dim=1)\n",
    "        return x\n",
    "\n",
    "\n",
    "class DepthwiseSeparableConvolution(nn.Module):\n",
    "    def __init__(self, in_channels, squeeze_channels, out_channels, kernel_size, stride):\n",
    "        super().__init__()\n",
    "        self.depthwise_conv = nn.Sequential(\n",
    "            # GroupedConvolution(in_channels, in_channels, in_channels, stride),\n",
    "            nn.Conv2d(in_channels, in_channels, kernel_size=kernel_size, stride=stride, padding=(kernel_size - 1) // 2, bias=False,\n",
    "                      groups=in_channels),\n",
    "            nn.BatchNorm2d(in_channels),\n",
    "            nn.SiLU(),\n",
    "        )\n",
    "        self.se_block = SEBlock(in_channels, squeeze_channels)\n",
    "        self.seeparable_conv = nn.Sequential(\n",
    "            nn.Conv2d(in_channels, out_channels, kernel_size=1, bias=False),\n",
    "            nn.BatchNorm2d(out_channels),\n",
    "        )\n",
    "    \n",
    "    def forward(self, x):\n",
    "        x = self.depthwise_conv(x)\n",
    "        x = self.se_block(x)\n",
    "        x = self.seeparable_conv(x)\n",
    "        return x"
   ],
   "id": "63d7939dd7eefc63",
   "outputs": [],
   "execution_count": 2
  },
  {
   "metadata": {
    "ExecuteTime": {
     "end_time": "2024-10-13T07:58:04.917989Z",
     "start_time": "2024-10-13T07:58:04.650002Z"
    }
   },
   "cell_type": "code",
   "source": [
    "class InvertedResidualBlock(nn.Module):\n",
    "    def __init__(self, in_channels, out_channels, expansion_factor, kernel_size, stride=1):\n",
    "        super().__init__()\n",
    "        squeeze_channels = in_channels//4\n",
    "        self.expansion_factor = expansion_factor\n",
    "        self.use_skip_connection = (stride == 1 and in_channels == out_channels)\n",
    "        layers = [nn.Sequential(\n",
    "            nn.Conv2d(in_channels, in_channels * expansion_factor, kernel_size=1, stride=1, bias=False),\n",
    "            nn.BatchNorm2d(in_channels * expansion_factor),\n",
    "            nn.SiLU(),\n",
    "        )] if self.expansion_factor != 1 else []\n",
    "        self.bottleneck = nn.Sequential(\n",
    "            *layers,\n",
    "            DepthwiseSeparableConvolution(in_channels * expansion_factor, squeeze_channels, out_channels, kernel_size, stride)\n",
    "        )\n",
    "    \n",
    "    def forward(self, x):\n",
    "        bottleneck = self.bottleneck(x)\n",
    "        bottleneck = bottleneck + x if self.use_skip_connection else bottleneck\n",
    "        return bottleneck\n",
    "\n",
    "\n",
    "x_batch = torch.randn(32, 16, 112, 112)\n",
    "print(InvertedResidualBlock(16, 24, 3, 3, 1)(x_batch).shape)"
   ],
   "id": "c26d419e1df292aa",
   "outputs": [
    {
     "name": "stdout",
     "output_type": "stream",
     "text": [
      "torch.Size([32, 24, 112, 112])\n"
     ]
    }
   ],
   "execution_count": 3
  },
  {
   "metadata": {
    "ExecuteTime": {
     "end_time": "2024-10-13T07:58:06.221283Z",
     "start_time": "2024-10-13T07:58:04.943943Z"
    }
   },
   "cell_type": "code",
   "source": [
    "class EfficientNet(nn.Module):\n",
    "    def __init__(self, n_channels, n_classes):\n",
    "        super().__init__()\n",
    "        self.conv1 = nn.Sequential(\n",
    "            nn.Conv2d(n_channels, 32, kernel_size=3, stride=2, padding=1, bias=False),\n",
    "            nn.BatchNorm2d(32),\n",
    "            nn.SiLU()\n",
    "        )\n",
    "        self.conv2 = InvertedResidualBlock(32, 16, 1, 3, 1)\n",
    "        self.conv3 = self.make_layers(16, 24, 6, 2, 3, 2)\n",
    "        self.conv4 = self.make_layers(24, 40, 6, 2, 5, 2)\n",
    "        self.conv5 = self.make_layers(40, 80, 6, 3, 3, 2)\n",
    "        self.conv6 = self.make_layers(80, 112, 6, 3, 5, 1)\n",
    "        self.conv7 = self.make_layers(112, 192, 6, 4, 5, 2)\n",
    "        self.conv8 = self.make_layers(192, 320, 6, 1, 3, 1)\n",
    "        self.conv9 = nn.Sequential(\n",
    "            nn.Conv2d(320, 1280, kernel_size=1, bias=False),\n",
    "            nn.BatchNorm2d(1280),\n",
    "            nn.SiLU()\n",
    "        )\n",
    "        self.avgpool = nn.AdaptiveAvgPool2d(1)\n",
    "        self.classifier = nn.Sequential(\n",
    "            nn.Flatten(),\n",
    "            nn.Dropout(0.2),\n",
    "            nn.Linear(1280, n_classes),\n",
    "        )\n",
    "    \n",
    "    def make_layers(self, in_channels, out_channels, expansion_factor, n_blocks, kernel_size, stride):\n",
    "        layers = [InvertedResidualBlock(in_channels, out_channels, expansion_factor, kernel_size, stride)]\n",
    "        for layer in range(n_blocks - 1):\n",
    "            layers.append(InvertedResidualBlock(out_channels, out_channels, expansion_factor, kernel_size))\n",
    "        \n",
    "        return nn.Sequential(*layers)\n",
    "    \n",
    "    def forward(self, x):\n",
    "        x = self.conv1(x)\n",
    "        x = self.conv2(x)\n",
    "        x = self.conv3(x)\n",
    "        x = self.conv4(x)\n",
    "        x = self.conv5(x)\n",
    "        x = self.conv6(x)\n",
    "        x = self.conv7(x)\n",
    "        x = self.conv8(x)\n",
    "        x = self.conv9(x)\n",
    "        x = self.avgpool(x)\n",
    "        x = self.classifier(x)\n",
    "        return x\n",
    "\n",
    "\n",
    "x_batch = torch.randn(32, 3, 224, 224)\n",
    "print(EfficientNet(3, 1000)(x_batch).shape)"
   ],
   "id": "8f6ffb7b9ada31d4",
   "outputs": [
    {
     "name": "stdout",
     "output_type": "stream",
     "text": [
      "torch.Size([32, 1000])\n"
     ]
    }
   ],
   "execution_count": 4
  },
  {
   "metadata": {
    "ExecuteTime": {
     "end_time": "2024-10-13T07:58:06.359150Z",
     "start_time": "2024-10-13T07:58:06.236985Z"
    }
   },
   "cell_type": "code",
   "source": [
    "efficientnet_model = EfficientNet(3, 1000)\n",
    "summary(efficientnet_model, input_size=(1, 3, 224, 224), col_names=['output_size', 'num_params', 'mult_adds'], device='cpu', depth=2)"
   ],
   "id": "81c19b8e00414744",
   "outputs": [
    {
     "data": {
      "text/plain": [
       "=======================================================================================================================================\n",
       "Layer (type:depth-idx)                                       Output Shape              Param #                   Mult-Adds\n",
       "=======================================================================================================================================\n",
       "EfficientNet                                                 [1, 1000]                 --                        --\n",
       "├─Sequential: 1-1                                            [1, 32, 112, 112]         --                        --\n",
       "│    └─Conv2d: 2-1                                           [1, 32, 112, 112]         864                       10,838,016\n",
       "│    └─BatchNorm2d: 2-2                                      [1, 32, 112, 112]         64                        64\n",
       "│    └─SiLU: 2-3                                             [1, 32, 112, 112]         --                        --\n",
       "├─InvertedResidualBlock: 1-2                                 [1, 16, 112, 112]         --                        --\n",
       "│    └─Sequential: 2-4                                       [1, 16, 112, 112]         1,448                     10,035,848\n",
       "├─Sequential: 1-3                                            [1, 24, 56, 56]           --                        --\n",
       "│    └─InvertedResidualBlock: 2-5                            [1, 24, 56, 56]           6,004                     29,203,732\n",
       "│    └─InvertedResidualBlock: 2-6                            [1, 24, 56, 56]           10,710                    25,742,790\n",
       "├─Sequential: 1-4                                            [1, 40, 28, 28]           --                        --\n",
       "│    └─InvertedResidualBlock: 2-7                            [1, 40, 28, 28]           15,350                    18,178,790\n",
       "│    └─InvertedResidualBlock: 2-8                            [1, 40, 28, 28]           31,290                    19,762,890\n",
       "├─Sequential: 1-5                                            [1, 80, 14, 14]           --                        --\n",
       "│    └─InvertedResidualBlock: 2-9                            [1, 80, 14, 14]           37,130                    11,719,130\n",
       "│    └─InvertedResidualBlock: 2-10                           [1, 80, 14, 14]           102,900                   15,921,300\n",
       "│    └─InvertedResidualBlock: 2-11                           [1, 80, 14, 14]           102,900                   15,921,300\n",
       "├─Sequential: 1-6                                            [1, 112, 14, 14]          --                        --\n",
       "│    └─InvertedResidualBlock: 2-12                           [1, 112, 14, 14]          126,004                   20,437,204\n",
       "│    └─InvertedResidualBlock: 2-13                           [1, 112, 14, 14]          208,572                   32,837,532\n",
       "│    └─InvertedResidualBlock: 2-14                           [1, 112, 14, 14]          208,572                   32,837,532\n",
       "├─Sequential: 1-7                                            [1, 192, 7, 7]            --                        --\n",
       "│    └─InvertedResidualBlock: 2-15                           [1, 192, 7, 7]            262,492                   21,938,524\n",
       "│    └─InvertedResidualBlock: 2-16                           [1, 192, 7, 7]            587,952                   23,204,016\n",
       "│    └─InvertedResidualBlock: 2-17                           [1, 192, 7, 7]            587,952                   23,204,016\n",
       "│    └─InvertedResidualBlock: 2-18                           [1, 192, 7, 7]            587,952                   23,204,016\n",
       "├─Sequential: 1-8                                            [1, 320, 7, 7]            --                        --\n",
       "│    └─InvertedResidualBlock: 2-19                           [1, 320, 7, 7]            717,232                   29,526,448\n",
       "├─Sequential: 1-9                                            [1, 1280, 7, 7]           --                        --\n",
       "│    └─Conv2d: 2-20                                          [1, 1280, 7, 7]           409,600                   20,070,400\n",
       "│    └─BatchNorm2d: 2-21                                     [1, 1280, 7, 7]           2,560                     2,560\n",
       "│    └─SiLU: 2-22                                            [1, 1280, 7, 7]           --                        --\n",
       "├─AdaptiveAvgPool2d: 1-10                                    [1, 1280, 1, 1]           --                        --\n",
       "├─Sequential: 1-11                                           [1, 1000]                 --                        --\n",
       "│    └─Flatten: 2-23                                         [1, 1280]                 --                        --\n",
       "│    └─Dropout: 2-24                                         [1, 1280]                 --                        --\n",
       "│    └─Linear: 2-25                                          [1, 1000]                 1,281,000                 1,281,000\n",
       "=======================================================================================================================================\n",
       "Total params: 5,288,548\n",
       "Trainable params: 5,288,548\n",
       "Non-trainable params: 0\n",
       "Total mult-adds (Units.MEGABYTES): 385.87\n",
       "=======================================================================================================================================\n",
       "Input size (MB): 0.60\n",
       "Forward/backward pass size (MB): 107.89\n",
       "Params size (MB): 21.15\n",
       "Estimated Total Size (MB): 129.64\n",
       "======================================================================================================================================="
      ]
     },
     "execution_count": 5,
     "metadata": {},
     "output_type": "execute_result"
    }
   ],
   "execution_count": 5
  },
  {
   "metadata": {
    "ExecuteTime": {
     "end_time": "2024-10-13T07:58:06.529486Z",
     "start_time": "2024-10-13T07:58:06.376151Z"
    }
   },
   "cell_type": "code",
   "source": [
    "efficientnet_torch_model = models.efficientnet_b0()\n",
    "summary(efficientnet_torch_model, input_size=(1, 3, 224, 224),\n",
    "        col_names=['output_size', 'num_params', 'mult_adds'], device='cpu', depth=3)"
   ],
   "id": "d725afd43334e3c6",
   "outputs": [
    {
     "data": {
      "text/plain": [
       "==================================================================================================================================\n",
       "Layer (type:depth-idx)                                  Output Shape              Param #                   Mult-Adds\n",
       "==================================================================================================================================\n",
       "EfficientNet                                            [1, 1000]                 --                        --\n",
       "├─Sequential: 1-1                                       [1, 1280, 7, 7]           --                        --\n",
       "│    └─Conv2dNormActivation: 2-1                        [1, 32, 112, 112]         --                        --\n",
       "│    │    └─Conv2d: 3-1                                 [1, 32, 112, 112]         864                       10,838,016\n",
       "│    │    └─BatchNorm2d: 3-2                            [1, 32, 112, 112]         64                        64\n",
       "│    │    └─SiLU: 3-3                                   [1, 32, 112, 112]         --                        --\n",
       "│    └─Sequential: 2-2                                  [1, 16, 112, 112]         --                        --\n",
       "│    │    └─MBConv: 3-4                                 [1, 16, 112, 112]         1,448                     10,035,848\n",
       "│    └─Sequential: 2-3                                  [1, 24, 56, 56]           --                        --\n",
       "│    │    └─MBConv: 3-5                                 [1, 24, 56, 56]           6,004                     29,203,732\n",
       "│    │    └─MBConv: 3-6                                 [1, 24, 56, 56]           10,710                    25,742,790\n",
       "│    └─Sequential: 2-4                                  [1, 40, 28, 28]           --                        --\n",
       "│    │    └─MBConv: 3-7                                 [1, 40, 28, 28]           15,350                    18,178,790\n",
       "│    │    └─MBConv: 3-8                                 [1, 40, 28, 28]           31,290                    19,762,890\n",
       "│    └─Sequential: 2-5                                  [1, 80, 14, 14]           --                        --\n",
       "│    │    └─MBConv: 3-9                                 [1, 80, 14, 14]           37,130                    11,719,130\n",
       "│    │    └─MBConv: 3-10                                [1, 80, 14, 14]           102,900                   15,921,300\n",
       "│    │    └─MBConv: 3-11                                [1, 80, 14, 14]           102,900                   15,921,300\n",
       "│    └─Sequential: 2-6                                  [1, 112, 14, 14]          --                        --\n",
       "│    │    └─MBConv: 3-12                                [1, 112, 14, 14]          126,004                   20,437,204\n",
       "│    │    └─MBConv: 3-13                                [1, 112, 14, 14]          208,572                   32,837,532\n",
       "│    │    └─MBConv: 3-14                                [1, 112, 14, 14]          208,572                   32,837,532\n",
       "│    └─Sequential: 2-7                                  [1, 192, 7, 7]            --                        --\n",
       "│    │    └─MBConv: 3-15                                [1, 192, 7, 7]            262,492                   21,938,524\n",
       "│    │    └─MBConv: 3-16                                [1, 192, 7, 7]            587,952                   23,204,016\n",
       "│    │    └─MBConv: 3-17                                [1, 192, 7, 7]            587,952                   23,204,016\n",
       "│    │    └─MBConv: 3-18                                [1, 192, 7, 7]            587,952                   23,204,016\n",
       "│    └─Sequential: 2-8                                  [1, 320, 7, 7]            --                        --\n",
       "│    │    └─MBConv: 3-19                                [1, 320, 7, 7]            717,232                   29,526,448\n",
       "│    └─Conv2dNormActivation: 2-9                        [1, 1280, 7, 7]           --                        --\n",
       "│    │    └─Conv2d: 3-20                                [1, 1280, 7, 7]           409,600                   20,070,400\n",
       "│    │    └─BatchNorm2d: 3-21                           [1, 1280, 7, 7]           2,560                     2,560\n",
       "│    │    └─SiLU: 3-22                                  [1, 1280, 7, 7]           --                        --\n",
       "├─AdaptiveAvgPool2d: 1-2                                [1, 1280, 1, 1]           --                        --\n",
       "├─Sequential: 1-3                                       [1, 1000]                 --                        --\n",
       "│    └─Dropout: 2-10                                    [1, 1280]                 --                        --\n",
       "│    └─Linear: 2-11                                     [1, 1000]                 1,281,000                 1,281,000\n",
       "==================================================================================================================================\n",
       "Total params: 5,288,548\n",
       "Trainable params: 5,288,548\n",
       "Non-trainable params: 0\n",
       "Total mult-adds (Units.MEGABYTES): 385.87\n",
       "==================================================================================================================================\n",
       "Input size (MB): 0.60\n",
       "Forward/backward pass size (MB): 107.89\n",
       "Params size (MB): 21.15\n",
       "Estimated Total Size (MB): 129.64\n",
       "=================================================================================================================================="
      ]
     },
     "execution_count": 6,
     "metadata": {},
     "output_type": "execute_result"
    }
   ],
   "execution_count": 6
  },
  {
   "metadata": {},
   "cell_type": "markdown",
   "source": "## Training",
   "id": "e2f0ce17f284d70c"
  },
  {
   "metadata": {
    "ExecuteTime": {
     "end_time": "2024-10-13T07:58:08.114734Z",
     "start_time": "2024-10-13T07:58:06.726517Z"
    }
   },
   "cell_type": "code",
   "source": [
    "from pathlib import Path\n",
    "\n",
    "TRAIN_RATIO = 0.8\n",
    "data_dir = Path('./data/')\n",
    "\n",
    "transform = transforms.Compose([\n",
    "    transforms.Resize(224),\n",
    "    transforms.ToTensor(),\n",
    "])\n",
    "\n",
    "train_ds = datasets.CIFAR100(data_dir, train=True, download=True, transform=transform)\n",
    "train_ds, val_ds = random_split(train_ds, (TRAIN_RATIO, 1 - TRAIN_RATIO))\n",
    "val_ds.transform = transform\n",
    "test_ds = datasets.CIFAR100(data_dir, train=False, download=True, transform=transform)"
   ],
   "id": "42d21d784414347d",
   "outputs": [
    {
     "name": "stdout",
     "output_type": "stream",
     "text": [
      "Files already downloaded and verified\n",
      "Files already downloaded and verified\n"
     ]
    }
   ],
   "execution_count": 7
  },
  {
   "metadata": {
    "ExecuteTime": {
     "end_time": "2024-10-13T08:55:35.394775Z",
     "start_time": "2024-10-13T07:58:08.130545Z"
    }
   },
   "cell_type": "code",
   "source": [
    "import wandb\n",
    "from src.engine import *\n",
    "\n",
    "config = dict(batch_size=64, lr=5e-4, epochs=20, dataset='CIFAR100')\n",
    "with wandb.init(project='pytorch-study', name='EfficientNet', config=config) as run:\n",
    "    w_config = run.config\n",
    "    train_dl = DataLoader(train_ds, batch_size=w_config.batch_size, shuffle=True)\n",
    "    val_dl = DataLoader(val_ds, batch_size=w_config.batch_size, shuffle=True)\n",
    "    \n",
    "    n_classes = len(train_ds.dataset.classes)\n",
    "    efficientnet_v2_model = EfficientNet(3, n_classes).to(DEVICE)\n",
    "    \n",
    "    criterion = nn.CrossEntropyLoss()\n",
    "    optimizer = optim.Adam(efficientnet_v2_model.parameters(), lr=w_config.lr)\n",
    "    \n",
    "    loss_history, acc_history = train(efficientnet_v2_model, train_dl, val_dl, criterion, optimizer, w_config.epochs,\n",
    "                                      DEVICE, run) "
   ],
   "id": "7feb6758495dd8a0",
   "outputs": [
    {
     "name": "stderr",
     "output_type": "stream",
     "text": [
      "Epoch=20: 100%|██████████| 20/20 [57:16<00:00, 171.84s/it, train_loss=0.159, train_acc=94.81%, val_loss=3.207, val_acc=48.11%]\n"
     ]
    }
   ],
   "execution_count": 8
  }
 ],
 "metadata": {
  "kernelspec": {
   "display_name": "Python 3",
   "language": "python",
   "name": "python3"
  },
  "language_info": {
   "codemirror_mode": {
    "name": "ipython",
    "version": 2
   },
   "file_extension": ".py",
   "mimetype": "text/x-python",
   "name": "python",
   "nbconvert_exporter": "python",
   "pygments_lexer": "ipython2",
   "version": "2.7.6"
  }
 },
 "nbformat": 4,
 "nbformat_minor": 5
}
